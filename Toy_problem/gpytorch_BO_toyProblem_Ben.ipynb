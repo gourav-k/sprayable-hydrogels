{
 "cells": [
  {
   "cell_type": "code",
   "execution_count": 249,
   "metadata": {},
   "outputs": [],
   "source": [
    "import torch\n",
    "import numpy as np\n",
    "from matplotlib import pyplot as plt\n",
    "from scipy.stats import norm\n",
    "\n",
    "# %matplotlib inline\n",
    "# %load_ext autoreload\n",
    "# %autoreload 2"
   ]
  },
  {
   "cell_type": "code",
   "execution_count": 250,
   "metadata": {},
   "outputs": [],
   "source": [
    "# generates training data\n",
    "def gen_data(num_data, seed = 2024):\n",
    "    torch.random.manual_seed(seed)\n",
    "\n",
    "    x = torch.randn(num_data,1)\n",
    "    y = torch.randn(num_data,1)\n",
    "\n",
    "    # u = torch.rand(1)\n",
    "    data_fn_obj = lambda x,y: torch.cos(2*x)*torch.cos(y) + torch.sin(x) # toy function\n",
    "    latent_fn_obj = data_fn_obj(x, y)\n",
    "    z_obj = latent_fn_obj.squeeze()\n",
    "    data_fn_cnt = lambda x, y: torch.cos(x)*torch.cos(y) - torch.sin(x)*torch.sin(y)\n",
    "    latent_fn_cnt = data_fn_cnt(x, y)\n",
    "    z_cnt = torch.heaviside(latent_fn_cnt - 0.5, torch.zeros(latent_fn_cnt.shape)).long().squeeze()\n",
    "    return torch.cat((x,y),dim=1), z_obj, z_cnt, data_fn_obj, data_fn_cnt"
   ]
  },
  {
   "cell_type": "code",
   "execution_count": 251,
   "metadata": {},
   "outputs": [],
   "source": [
    "# generate training data - y= objective values, c=class label\n",
    "train_x, train_y, train_c, genfn_obj, genfn_cnt = gen_data(500)\n",
    "\n",
    "# test data generate - uniform across [-3, 3] x [-3, 3]\n",
    "test_d1 = np.linspace(-3, 3, 20)\n",
    "test_d2 = np.linspace(-3, 3, 20)\n",
    "\n",
    "test_x1_mat, test_x2_mat = np.meshgrid(test_d1, test_d2)\n",
    "test_x1_mat, test_x2_mat = torch.Tensor(test_x1_mat), torch.Tensor(test_x2_mat)\n",
    "\n",
    "test_x = torch.cat((test_x1_mat.view(-1,1), test_x2_mat.view(-1,1)), dim=1)\n",
    "test_y = genfn_obj(test_x1_mat, test_x2_mat)\n",
    "test_y = test_y.view(-1)\n",
    "test_latent_cnt = genfn_cnt(test_x1_mat, test_x2_mat)\n",
    "test_labels = torch.heaviside(test_latent_cnt - 0.5, torch.zeros(test_latent_cnt.shape))\n",
    "test_c = test_labels.view(-1)"
   ]
  },
  {
   "cell_type": "code",
   "execution_count": 252,
   "metadata": {},
   "outputs": [],
   "source": [
    "import gpytorch\n",
    "from gpytorch.models import ExactGP\n",
    "from gpytorch.likelihoods import DirichletClassificationLikelihood\n",
    "from gpytorch.means import ConstantMean\n",
    "from gpytorch.kernels import ScaleKernel, RBFKernel"
   ]
  },
  {
   "cell_type": "code",
   "execution_count": 253,
   "metadata": {},
   "outputs": [],
   "source": [
    "# GP class for regression\n",
    "class ExactGPModel(gpytorch.models.ExactGP):\n",
    "    def __init__(self, train_x, train_y, likelihood):\n",
    "        super(ExactGPModel, self).__init__(train_x, train_y, likelihood)\n",
    "        self.mean_module = gpytorch.means.ConstantMean()\n",
    "        self.covar_module = gpytorch.kernels.ScaleKernel(gpytorch.kernels.RBFKernel())\n",
    "    \n",
    "    def forward(self, x):\n",
    "        mean_x = self.mean_module(x)\n",
    "        covar_x = self.covar_module(x)\n",
    "        return gpytorch.distributions.MultivariateNormal(mean_x, covar_x)\n",
    "\n",
    "# GP class for classification\n",
    "class DirichletGPModel(ExactGP):\n",
    "    def __init__(self, train_x, train_y, likelihood, num_classes):\n",
    "        super(DirichletGPModel, self).__init__(train_x, train_y, likelihood)\n",
    "        self.mean_module = ConstantMean(batch_shape=torch.Size((num_classes,)))\n",
    "        self.covar_module = ScaleKernel(\n",
    "            RBFKernel(batch_shape=torch.Size((num_classes,))),\n",
    "            batch_shape=torch.Size((num_classes,)),\n",
    "        )\n",
    "\n",
    "    def forward(self, x):\n",
    "        mean_x = self.mean_module(x)\n",
    "        covar_x = self.covar_module(x)\n",
    "        return gpytorch.distributions.MultivariateNormal(mean_x, covar_x)"
   ]
  },
  {
   "cell_type": "code",
   "execution_count": 254,
   "metadata": {},
   "outputs": [],
   "source": [
    "# function to optimize parameters of the classification GP - \n",
    "def train_cls_gp(model, likelihood, training_iter):\n",
    "   # Find optimal model hyperparameters\n",
    "    model.train()\n",
    "    likelihood.train()\n",
    "\n",
    "    # Use the adam optimizer\n",
    "    optimizer = torch.optim.Adam(model.parameters(), lr=0.1)  # Includes GaussianLikelihood parameters\n",
    "\n",
    "    # \"Loss\" for GPs - the marginal log likelihood\n",
    "    mll = gpytorch.mlls.ExactMarginalLogLikelihood(likelihood, model)\n",
    "\n",
    "    for i in range(training_iter):\n",
    "        # Zero gradients from previous iteration\n",
    "        optimizer.zero_grad()\n",
    "        # Output from model\n",
    "        output = model(train_x)\n",
    "        # Calc loss and backprop gradients\n",
    "        loss = -mll(output, likelihood.transformed_targets).sum()\n",
    "        loss.backward()\n",
    "        # if i % 5 == 0:\n",
    "        #     print('Iter %d/%d - Loss: %.3f   lengthscale: %.3f   noise: %.3f' % (\n",
    "        #         i + 1, training_iter, loss.item(),\n",
    "        #         model.covar_module.base_kernel.lengthscale.mean().item(),\n",
    "        #         model.likelihood.second_noise_covar.noise.mean().item()\n",
    "        #     ))\n",
    "        optimizer.step()\n",
    "\n",
    "    return model, likelihood\n"
   ]
  },
  {
   "cell_type": "code",
   "execution_count": 255,
   "metadata": {},
   "outputs": [],
   "source": [
    "# function to optimize parameters of the regression GP -\n",
    "def train_reg_gp(model, likelihood, training_iter):\n",
    "   # Find optimal model hyperparameters\n",
    "    model.train()\n",
    "    likelihood.train()\n",
    "\n",
    "    # Use the adam optimizer\n",
    "    optimizer = torch.optim.Adam(model.parameters(), lr=0.1)  # Includes GaussianLikelihood parameters\n",
    "\n",
    "    # \"Loss\" for GPs - the marginal log likelihood\n",
    "    mll = gpytorch.mlls.ExactMarginalLogLikelihood(likelihood, model)\n",
    "\n",
    "    for i in range(training_iter):\n",
    "        # Zero gradients from previous iteration\n",
    "        optimizer.zero_grad()\n",
    "        # Output from model\n",
    "        output = model(train_x)\n",
    "        # Calc loss and backprop gradients\n",
    "        loss = -mll(output, train_y)\n",
    "        loss.backward()\n",
    "        # if i % 5 == 0:\n",
    "        #     print('Iter %d/%d - Loss: %.3f   lengthscale: %.3f   noise: %.3f' % (\n",
    "        #         i + 1, training_iter, loss.item(),\n",
    "        #         model.covar_module.base_kernel.lengthscale.item(),\n",
    "        #         model.likelihood.noise.item()\n",
    "        #     ))\n",
    "        optimizer.step()\n",
    "\n",
    "    return model, likelihood "
   ]
  },
  {
   "cell_type": "code",
   "execution_count": 256,
   "metadata": {},
   "outputs": [],
   "source": [
    "# calculate acquisition function\n",
    "# Expected improvement, maximizing y\n",
    "def calculate_acf(pred_mean, pred_std, y_max):\n",
    "    # improve = pred_mean - y_max # maximizing\n",
    "    improve = y_max - pred_mean # minimizing\n",
    "    z_score = np.divide(improve, pred_std + 1e-9)\n",
    "    acf = np.multiply(improve, norm.cdf(z_score)) + np.multiply(pred_std, norm.pdf(z_score))\n",
    "    return acf\n",
    "\n",
    "# to do replacement, before calculate_acf\n",
    "def feasible_replace(class_mat,pred_means_mat):\n",
    "    feasible = torch.max(0*class_mat,-1*class_mat)\n",
    "    feasible_vals = feasible*pred_means_mat\n",
    "\n",
    "    worst = torch.max(pred_means_mat)\n",
    "    feasible_vals[feasible_vals==0] = worst\n",
    "    return feasible_vals"
   ]
  },
  {
   "cell_type": "code",
   "execution_count": 257,
   "metadata": {},
   "outputs": [],
   "source": [
    "#initialize likelihood and model - regression\n",
    "reg_likelihood = gpytorch.likelihoods.GaussianLikelihood()\n",
    "reg_model = ExactGPModel(train_x, train_y, reg_likelihood)\n",
    "\n",
    "# initialize likelihood and model\n",
    "# we let the DirichletClassificationLikelihood compute the targets for us\n",
    "cls_likelihood = DirichletClassificationLikelihood(train_c, learn_additional_noise=True)\n",
    "cls_model = DirichletGPModel(train_x, cls_likelihood.transformed_targets, cls_likelihood, num_classes=cls_likelihood.num_classes)\n",
    "\n",
    "# train models\n",
    "reg_model, reg_likelihood = train_reg_gp(reg_model, reg_likelihood, 50)\n",
    "cls_model, cls_likelihood = train_cls_gp(cls_model, cls_likelihood, 50)\n",
    "\n",
    "# prediction - objective values\n",
    "reg_model.eval()\n",
    "reg_likelihood.eval()\n",
    "\n",
    "with torch.no_grad(), gpytorch.settings.fast_pred_var():\n",
    "    obj_pred = reg_likelihood(reg_model(test_x))\n",
    "    obj_pred_means = obj_pred.loc\n",
    "    obj_means_mat = obj_pred_means.reshape((20, 20))\n",
    "\n",
    "    lower, upper = obj_pred.confidence_region()\n",
    "    lower_mat, upper_mat = lower.reshape((20, 20)), upper.reshape((20, 20))\n",
    "    confidence = torch.abs(lower-upper)\n",
    "    confidence_mat = torch.abs(lower_mat-upper_mat)\n",
    "\n",
    "# prediction - class probabilities\n",
    "cls_model.eval()\n",
    "cls_likelihood.eval()\n",
    "\n",
    "with torch.no_grad(), gpytorch.settings.fast_pred_var():\n",
    "    logit_dist = cls_model(test_x)\n",
    "    logit_means = logit_dist.loc\n",
    "    logit_stddevs = logit_dist.stddev\n",
    "\n",
    "# calculate probabilites from the logit values\n",
    "samples = logit_dist.sample(torch.Size((256,))).exp()\n",
    "class_probabilites = (samples / samples.sum(-2, keepdim=True)).mean(0)\n",
    "\n",
    "# find the min objective value in training points\n",
    "best_idx = np.argmin(train_y)\n",
    "x_best = train_x[best_idx, :]\n",
    "y_best = train_y[best_idx]\n",
    "\n",
    "# calculate expected improvement\n",
    "obj_pred_means = feasible_replace(logit_means.max(0)[1].reshape(20,20)-1,obj_pred_means.reshape(20,20))\n",
    "ei = calculate_acf(obj_pred_means.reshape(400), obj_pred.stddev, y_best)\n",
    "#ei = calculate_acf(obj_pred_means, confidence, y_best) # which is better - stddev or confidence?\n",
    "\n",
    "# multiply by the classification probability\n",
    "#fwa_old = ei * class_probabilites[0]\n",
    "fwa_old = ei\n",
    "fwa_mat = fwa_old.reshape(20,20) # for plotting\n",
    "fwa_best_idx = torch.argmax(fwa_old) # index of best\n",
    "x_best = test_x[fwa_best_idx,:]\n",
    "\n",
    "# update training data\n",
    "train_x = torch.cat((train_x,x_best.view(1,2)),0)\n",
    "train_y = torch.cat((train_y,genfn_obj(x_best[0],x_best[1]).view(1)),0)\n",
    "latent_fn_cnt = genfn_cnt(x_best[0],x_best[1]).view(1)\n",
    "train_c = torch.cat((train_c,torch.heaviside(latent_fn_cnt - 0.5, torch.zeros(latent_fn_cnt.shape)).long()),0)"
   ]
  },
  {
   "cell_type": "code",
   "execution_count": 258,
   "metadata": {},
   "outputs": [
    {
     "data": {
      "image/png": "[encoded data removed]",
      "text/plain": [
       "<Figure size 1000x500 with 4 Axes>"
      ]
     },
     "metadata": {},
     "output_type": "display_data"
    }
   ],
   "source": [
    "fig, ax = plt.subplots(1, 2, figsize=(10,5))\n",
    "\n",
    "f1 = ax[0].contourf(test_x1_mat.numpy(), test_x2_mat.numpy(), fwa_mat.numpy())\n",
    "ax[0].set_title('Acquisition Function')\n",
    "\n",
    "f2 = ax[1].contourf(test_x1_mat.numpy(), test_x2_mat.numpy(), obj_pred_means.numpy())\n",
    "ax[1].set_title('Predicted Means')\n",
    "\n",
    "fig.colorbar(f1,location = 'bottom')\n",
    "fig.colorbar(f2,location = 'bottom')\n",
    "plt.show()"
   ]
  },
  {
   "cell_type": "code",
   "execution_count": 259,
   "metadata": {},
   "outputs": [],
   "source": [
    "error = 1\n",
    "tol = 1e-5\n",
    "iter = 0\n",
    "#for iter in range(2):\n",
    "while iter < 1000 and error > tol:\n",
    "    #initialize likelihood and model - regression\n",
    "    reg_likelihood = gpytorch.likelihoods.GaussianLikelihood()\n",
    "    reg_model = ExactGPModel(train_x, train_y, reg_likelihood)\n",
    "\n",
    "    # initialize likelihood and model\n",
    "    # we let the DirichletClassificationLikelihood compute the targets for us\n",
    "    cls_likelihood = DirichletClassificationLikelihood(train_c, learn_additional_noise=True)\n",
    "    cls_model = DirichletGPModel(train_x, cls_likelihood.transformed_targets, cls_likelihood, num_classes=cls_likelihood.num_classes)\n",
    "\n",
    "    # train models\n",
    "    reg_model, reg_likelihood = train_reg_gp(reg_model, reg_likelihood, 50)\n",
    "    cls_model, cls_likelihood = train_cls_gp(cls_model, cls_likelihood, 50)\n",
    "\n",
    "    # prediction - objective values\n",
    "    reg_model.eval()\n",
    "    reg_likelihood.eval()\n",
    "\n",
    "    with torch.no_grad(), gpytorch.settings.fast_pred_var():\n",
    "        obj_pred = reg_likelihood(reg_model(test_x))\n",
    "        obj_pred_means = obj_pred.loc\n",
    "        obj_means_mat = obj_pred_means.reshape((20, 20))\n",
    "\n",
    "        lower, upper = obj_pred.confidence_region()\n",
    "        lower_mat, upper_mat = lower.reshape((20, 20)), upper.reshape((20, 20))\n",
    "        confidence = torch.abs(lower-upper)\n",
    "        confidence_mat = torch.abs(lower_mat-upper_mat)\n",
    "\n",
    "    # prediction - class probabilities\n",
    "    cls_model.eval()\n",
    "    cls_likelihood.eval()\n",
    "\n",
    "    with torch.no_grad(), gpytorch.settings.fast_pred_var():\n",
    "        logit_dist = cls_model(test_x)\n",
    "        logit_means = logit_dist.loc\n",
    "        logit_stddevs = logit_dist.stddev\n",
    "\n",
    "    # calculate probabilites from the logit values\n",
    "    samples = logit_dist.sample(torch.Size((256,))).exp()\n",
    "    class_probabilites = (samples / samples.sum(-2, keepdim=True)).mean(0)\n",
    "\n",
    "    # find the min objective value in training points\n",
    "    best_idx = np.argmin(train_y)\n",
    "    x_best = train_x[best_idx, :]\n",
    "    y_best = train_y[best_idx]\n",
    "\n",
    "    # calculate expected improvement\n",
    "    obj_pred_means = feasible_replace(logit_means.max(0)[1].reshape(20,20)-1,obj_pred_means.reshape(20,20))\n",
    "    ei = calculate_acf(obj_pred_means.reshape(400), obj_pred.stddev, y_best)\n",
    "    #ei = calculate_acf(obj_pred_means, confidence, y_best) # which is better - stddev or confidence?\n",
    "\n",
    "    # multiply by the classification probability\n",
    "    #fwa = ei * class_probabilites[0] # feasibility weighted acquisition\n",
    "    fwa = ei\n",
    "    fwa_mat = fwa.reshape(20,20) # for plotting\n",
    "    fwa_best_idx = torch.argmax(fwa) # index of highest ei\n",
    "    x_best = test_x[fwa_best_idx,:] # x location of highest ei\n",
    "\n",
    "    # update training data\n",
    "    train_x = torch.cat((train_x,x_best.view(1,2)),0)\n",
    "    train_y = torch.cat((train_y,genfn_obj(x_best[0],x_best[1]).view(1)),0)\n",
    "    latent_fn_cnt = genfn_cnt(x_best[0],x_best[1]).view(1)\n",
    "    train_c = torch.cat((train_c,torch.heaviside(latent_fn_cnt - 0.5, torch.zeros(latent_fn_cnt.shape)).long()),0)\n",
    "\n",
    "    # check convergence\n",
    "    error = torch.linalg.vector_norm(fwa-fwa_old,np.inf)\n",
    "    iter += 1\n",
    "\n",
    "    fwa_old = fwa\n"
   ]
  },
  {
   "cell_type": "code",
   "execution_count": 260,
   "metadata": {},
   "outputs": [
    {
     "data": {
      "image/png": "[encoded data removed]",
      "text/plain": [
       "<Figure size 1000x500 with 4 Axes>"
      ]
     },
     "metadata": {},
     "output_type": "display_data"
    }
   ],
   "source": [
    "fig, ax = plt.subplots(1, 2, figsize=(10,5))\n",
    "\n",
    "f1 = ax[0].contourf(test_x1_mat.numpy(), test_x2_mat.numpy(), fwa_mat.numpy())\n",
    "ax[0].set_title('Acquisition Function')\n",
    "\n",
    "f2 = ax[1].contourf(test_x1_mat.numpy(), test_x2_mat.numpy(), obj_pred_means.reshape(20,20).numpy())\n",
    "ax[1].set_title('Predicted Means')\n",
    "\n",
    "fig.colorbar(f1,location = 'bottom')\n",
    "fig.colorbar(f2,location = 'bottom')\n",
    "plt.show()"
   ]
  },
  {
   "cell_type": "code",
   "execution_count": 261,
   "metadata": {},
   "outputs": [
    {
     "data": {
      "text/plain": [
       "tensor(-1.9294)"
      ]
     },
     "execution_count": 261,
     "metadata": {},
     "output_type": "execute_result"
    }
   ],
   "source": [
    "torch.min(obj_means_mat)"
   ]
  },
  {
   "cell_type": "code",
   "execution_count": 262,
   "metadata": {},
   "outputs": [],
   "source": [
    "# #initialize likelihood and model - regression\n",
    "# reg_likelihood = gpytorch.likelihoods.GaussianLikelihood()\n",
    "# reg_model = ExactGPModel(train_x, train_y, reg_likelihood)\n",
    "\n",
    "# # initialize likelihood and model\n",
    "# # we let the DirichletClassificationLikelihood compute the targets for us\n",
    "# cls_likelihood = DirichletClassificationLikelihood(train_c, learn_additional_noise=True)\n",
    "# cls_model = DirichletGPModel(train_x, cls_likelihood.transformed_targets, cls_likelihood, num_classes=cls_likelihood.num_classes)"
   ]
  },
  {
   "cell_type": "code",
   "execution_count": 263,
   "metadata": {},
   "outputs": [],
   "source": [
    "# print(\"Training Regression model\")\n",
    "# reg_model, reg_likelihood = train_reg_gp(reg_model, reg_likelihood, 50)\n",
    "# print(\"Training Classification model\")\n",
    "# cls_model, cls_likelihood = train_cls_gp(cls_model, cls_likelihood, 50)"
   ]
  },
  {
   "cell_type": "code",
   "execution_count": 264,
   "metadata": {},
   "outputs": [],
   "source": [
    "# # prediction - objective values\n",
    "# reg_model.eval()\n",
    "# reg_likelihood.eval()\n",
    "\n",
    "# with torch.no_grad(), gpytorch.settings.fast_pred_var():\n",
    "#     obj_pred = reg_likelihood(reg_model(test_x))\n",
    "#     obj_pred_means = obj_pred.loc\n",
    "#     obj_means_mat = obj_pred_means.reshape((20, 20))\n",
    "\n",
    "#     lower, upper = obj_pred.confidence_region()\n",
    "#     lower_mat, upper_mat = lower.reshape((20, 20)), upper.reshape((20, 20))\n",
    "#     confidence = torch.abs(lower-upper)\n",
    "#     confidence_mat = torch.abs(lower_mat-upper_mat)"
   ]
  },
  {
   "cell_type": "code",
   "execution_count": 265,
   "metadata": {},
   "outputs": [],
   "source": [
    "# # prediction - class probabilities\n",
    "# cls_model.eval()\n",
    "# cls_likelihood.eval()\n",
    "\n",
    "# with torch.no_grad(), gpytorch.settings.fast_pred_var():\n",
    "#     logit_dist = cls_model(test_x)\n",
    "#     logit_means = logit_dist.loc\n",
    "#     logit_stddevs = logit_dist.stddev\n",
    "\n",
    "# # calculate probabilites from the logit values\n",
    "# samples = logit_dist.sample(torch.Size((256,))).exp()\n",
    "# class_probabilites = (samples / samples.sum(-2, keepdim=True)).mean(0)"
   ]
  },
  {
   "cell_type": "code",
   "execution_count": 266,
   "metadata": {},
   "outputs": [],
   "source": [
    "# fig, ax = plt.subplots(1, 2, figsize=(10,5))\n",
    "\n",
    "# ax[0].contourf(test_x1_mat.numpy(), test_x2_mat.numpy(), genfn_obj(test_x1_mat, test_x2_mat))\n",
    "# ax[0].set_title('Test function')\n",
    "\n",
    "# ax[1].contourf(test_x1_mat.numpy(), test_x2_mat.numpy(), obj_means_mat)\n",
    "# ax[1].set_title('Predicted Means')\n",
    "\n",
    "# plt.show()"
   ]
  },
  {
   "cell_type": "code",
   "execution_count": 267,
   "metadata": {},
   "outputs": [],
   "source": [
    "# # feasible class probabilities\n",
    "# levels = np.linspace(0, 1.05, 20)\n",
    "# plt.contourf(test_x1_mat.numpy(), test_x2_mat.numpy(), class_probabilites[0].numpy().reshape((20,20)), levels=levels)\n",
    "# plt.colorbar()\n",
    "# plt.title(\"Probabilites: Feasible region\")\n",
    "# plt.show()"
   ]
  },
  {
   "cell_type": "code",
   "execution_count": 268,
   "metadata": {},
   "outputs": [],
   "source": [
    "\n",
    "# # find the min objective value in training points\n",
    "# best_idx = np.argmin(train_y)\n",
    "# x_best = train_x[best_idx, :]\n",
    "# y_best = train_y[best_idx]\n",
    "\n",
    "# worst_idx = np.argmax(train_y)\n",
    "# y_worst = train_y[worst_idx]\n",
    "\n",
    "# ei = calculate_acf(obj_pred_means, obj_pred.stddev, y_best)\n",
    "# #ei = calculate_acf(obj_pred_means, confidence, y_best) # which is better - stddev or confidence?"
   ]
  },
  {
   "cell_type": "code",
   "execution_count": 269,
   "metadata": {},
   "outputs": [],
   "source": [
    "# # multiply by the classification probability\n",
    "# fwa = ei * class_probabilites[0]\n",
    "# fwa_mat = fwa.reshape(20,20) # feasibility weighted acquisition\n",
    "# plt.contourf(test_x1_mat.numpy(),test_x2_mat.numpy(),fwa_mat.numpy())\n",
    "# plt.colorbar()"
   ]
  }
 ],
 "metadata": {
  "kernelspec": {
   "display_name": "base",
   "language": "python",
   "name": "python3"
  },
  "language_info": {
   "codemirror_mode": {
    "name": "ipython",
    "version": 3
   },
   "file_extension": ".py",
   "mimetype": "text/x-python",
   "name": "python",
   "nbconvert_exporter": "python",
   "pygments_lexer": "ipython3",
   "version": "3.11.5"
  }
 },
 "nbformat": 4,
 "nbformat_minor": 2
}
