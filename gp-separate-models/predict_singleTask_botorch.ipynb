{
 "cells": [
  {
   "cell_type": "markdown",
   "metadata": {},
   "source": [
    "# BoTorch for SingleTaskGP\n",
    "\n",
    "Separate GP models for all outputs"
   ]
  },
  {
   "cell_type": "code",
   "execution_count": 1,
   "metadata": {},
   "outputs": [
    {
     "name": "stderr",
     "output_type": "stream",
     "text": [
      "c:\\Users\\goura\\anaconda3\\envs\\botorch\\Lib\\site-packages\\tqdm\\auto.py:21: TqdmWarning: IProgress not found. Please update jupyter and ipywidgets. See https://ipywidgets.readthedocs.io/en/stable/user_install.html\n",
      "  from .autonotebook import tqdm as notebook_tqdm\n"
     ]
    }
   ],
   "source": [
    "import torch\n",
    "import pandas as pd\n",
    "import numpy as np\n",
    "import matplotlib.pyplot as plt\n",
    "from botorch.utils.transforms import unnormalize, normalize\n",
    "from botorch.models import SingleTaskGP\n",
    "from botorch.models.model_list_gp_regression import ModelListGP\n",
    "from gpytorch.mlls.sum_marginal_log_likelihood import SumMarginalLogLikelihood\n",
    "from gpytorch.mlls.sum_marginal_log_likelihood import ExactMarginalLogLikelihood\n",
    "from botorch import fit_gpytorch_mll\n",
    "from botorch.models.transforms.outcome import Standardize\n",
    "from torch.optim import Adam"
   ]
  },
  {
   "cell_type": "markdown",
   "metadata": {},
   "source": [
    "Read and normalize data"
   ]
  },
  {
   "cell_type": "code",
   "execution_count": 2,
   "metadata": {},
   "outputs": [],
   "source": [
    "# filename = r'../data/olhs_run1.xlsx'\n",
    "# x_pd = pd.read_excel(filename, sheet_name='Initial Design (OLHS)', header=[0,1], index_col=[0])\n",
    "# y_pd = pd.read_excel(filename, sheet_name='bo_data', header=[0,1], index_col=[0])\n",
    "\n",
    "filename = r'../data/olhs_combine.xlsx'\n",
    "x_pd = pd.read_excel(filename, sheet_name='Design', header=[0,1], index_col=[0])\n",
    "y_pd = pd.read_excel(filename, sheet_name='bo_data', header=[0,1], index_col=[0])\n",
    "\n",
    "dtype=torch.double\n",
    "\n",
    "objective_properties = ['Polymer Solubility', 'Gelation Enthalpy', 'Shear Modulus']\n",
    "\n",
    "x_np = x_pd.values\n",
    "y_np = y_pd[objective_properties].values\n",
    "\n",
    "x = torch.tensor(x_np, dtype=dtype)\n",
    "y = torch.tensor(y_np, dtype=dtype)\n",
    "\n",
    "x_bounds = np.array([[2000, 10000], [0, 100], [0, 40], [5000, 15000], [80, 100], [0,100], [60, 100], [70, 100]])\n",
    "x_bounds = torch.tensor(x_bounds.T, dtype=dtype)\n",
    "\n",
    "x = normalize(x, bounds=x_bounds)"
   ]
  },
  {
   "cell_type": "code",
   "execution_count": 3,
   "metadata": {},
   "outputs": [],
   "source": [
    "# identify non-feasible designs\n",
    "mfg = y_pd['Manufacturability'].values\n",
    "feas_bool = mfg==1\n",
    "x = x[feas_bool.flatten(), :] \n",
    "y = y[feas_bool.flatten(), :]"
   ]
  },
  {
   "cell_type": "markdown",
   "metadata": {},
   "source": [
    "Define and Initialize GP models"
   ]
  },
  {
   "cell_type": "code",
   "execution_count": 4,
   "metadata": {},
   "outputs": [],
   "source": [
    "models = []\n",
    "for i in range(len(objective_properties)):\n",
    "    models.append(\n",
    "        SingleTaskGP(x, y[:,i].unsqueeze(-1), outcome_transform=Standardize(m=1))\n",
    "    )\n",
    "model = ModelListGP(*models)\n",
    "mll = SumMarginalLogLikelihood(model.likelihood, model)\n",
    "mll = mll.to(x)"
   ]
  },
  {
   "cell_type": "markdown",
   "metadata": {},
   "source": [
    "Fit the model"
   ]
  },
  {
   "cell_type": "code",
   "execution_count": 5,
   "metadata": {},
   "outputs": [
    {
     "data": {
      "text/plain": [
       "SumMarginalLogLikelihood(\n",
       "  (likelihood): LikelihoodList(\n",
       "    (likelihoods): ModuleList(\n",
       "      (0-2): 3 x GaussianLikelihood(\n",
       "        (noise_covar): HomoskedasticNoise(\n",
       "          (noise_prior): GammaPrior()\n",
       "          (raw_noise_constraint): GreaterThan(1.000E-04)\n",
       "        )\n",
       "      )\n",
       "    )\n",
       "  )\n",
       "  (model): ModelListGP(\n",
       "    (models): ModuleList(\n",
       "      (0-2): 3 x SingleTaskGP(\n",
       "        (likelihood): GaussianLikelihood(\n",
       "          (noise_covar): HomoskedasticNoise(\n",
       "            (noise_prior): GammaPrior()\n",
       "            (raw_noise_constraint): GreaterThan(1.000E-04)\n",
       "          )\n",
       "        )\n",
       "        (mean_module): ConstantMean()\n",
       "        (covar_module): ScaleKernel(\n",
       "          (base_kernel): MaternKernel(\n",
       "            (lengthscale_prior): GammaPrior()\n",
       "            (raw_lengthscale_constraint): Positive()\n",
       "          )\n",
       "          (outputscale_prior): GammaPrior()\n",
       "          (raw_outputscale_constraint): Positive()\n",
       "        )\n",
       "        (outcome_transform): Standardize()\n",
       "      )\n",
       "    )\n",
       "    (likelihood): LikelihoodList(\n",
       "      (likelihoods): ModuleList(\n",
       "        (0-2): 3 x GaussianLikelihood(\n",
       "          (noise_covar): HomoskedasticNoise(\n",
       "            (noise_prior): GammaPrior()\n",
       "            (raw_noise_constraint): GreaterThan(1.000E-04)\n",
       "          )\n",
       "        )\n",
       "      )\n",
       "    )\n",
       "  )\n",
       "  (mlls): ModuleList(\n",
       "    (0-2): 3 x ExactMarginalLogLikelihood(\n",
       "      (likelihood): GaussianLikelihood(\n",
       "        (noise_covar): HomoskedasticNoise(\n",
       "          (noise_prior): GammaPrior()\n",
       "          (raw_noise_constraint): GreaterThan(1.000E-04)\n",
       "        )\n",
       "      )\n",
       "      (model): SingleTaskGP(\n",
       "        (likelihood): GaussianLikelihood(\n",
       "          (noise_covar): HomoskedasticNoise(\n",
       "            (noise_prior): GammaPrior()\n",
       "            (raw_noise_constraint): GreaterThan(1.000E-04)\n",
       "          )\n",
       "        )\n",
       "        (mean_module): ConstantMean()\n",
       "        (covar_module): ScaleKernel(\n",
       "          (base_kernel): MaternKernel(\n",
       "            (lengthscale_prior): GammaPrior()\n",
       "            (raw_lengthscale_constraint): Positive()\n",
       "          )\n",
       "          (outputscale_prior): GammaPrior()\n",
       "          (raw_outputscale_constraint): Positive()\n",
       "        )\n",
       "        (outcome_transform): Standardize()\n",
       "      )\n",
       "    )\n",
       "  )\n",
       ")"
      ]
     },
     "execution_count": 5,
     "metadata": {},
     "output_type": "execute_result"
    }
   ],
   "source": [
    "fit_gpytorch_mll(mll)"
   ]
  },
  {
   "cell_type": "code",
   "execution_count": 6,
   "metadata": {},
   "outputs": [],
   "source": [
    "model.eval()\n",
    "\n",
    "posterior = model.posterior(x)\n",
    "pred_mean = posterior.mean.detach().numpy()"
   ]
  },
  {
   "cell_type": "code",
   "execution_count": 7,
   "metadata": {},
   "outputs": [
    {
     "data": {
      "text/plain": [
       "array([[ 56.10496009,   3.24610112,   5.5198796 ],\n",
       "       [126.11315478,   2.00110453,   3.06972483],\n",
       "       [ 89.07224712,  82.12147604,   2.59843202],\n",
       "       [ 90.48586344,   2.4459302 ,   3.42440474],\n",
       "       [ 70.47881577,  27.19890575,   4.30126503],\n",
       "       [ 54.01477017, 107.30254325,   5.71135151],\n",
       "       [175.47247996,   3.70804811,  10.4510598 ],\n",
       "       [ 54.41084275, 112.99359715,   1.43308026],\n",
       "       [105.90415975,  17.45735581,   3.15065057],\n",
       "       [ 84.09295017,   9.13536078,  10.48400266],\n",
       "       [ 70.15013402, 105.39383182,  39.05848337],\n",
       "       [122.07406389,   3.74780252,  10.04942056],\n",
       "       [151.87617538,  16.59687476,  28.16230374],\n",
       "       [118.56163594,   2.69750335,   1.51071614],\n",
       "       [ 65.98006359,  28.63037367,   1.46110433],\n",
       "       [208.67122424,   4.84352161,   3.93414821],\n",
       "       [ 87.02440513,  13.95910724,   3.26304539],\n",
       "       [152.14714844,   4.94195292,   8.3509711 ],\n",
       "       [ 73.59653812,   4.07117313,   2.76967747],\n",
       "       [ 55.26020086,  60.02778961,   4.46565444],\n",
       "       [118.41046844,  41.6593669 ,   5.9523585 ],\n",
       "       [130.49533899,  41.7422937 ,  58.03655785],\n",
       "       [727.23048485,  25.3465382 ,   2.16957087],\n",
       "       [143.30193796,   6.19999415,  84.60629221],\n",
       "       [235.9856816 ,   2.90385356,   1.25389457],\n",
       "       [377.59977861,   5.94206134,  10.75613805],\n",
       "       [124.1905073 ,   4.24595836,  23.82983777],\n",
       "       [181.46444018,   3.42384679,   3.1345062 ],\n",
       "       [268.92219831,   3.27601499,   2.2522965 ],\n",
       "       [318.25158691,   8.42122592,  10.37218723],\n",
       "       [115.42165749,   5.09852789,  57.26486107],\n",
       "       [615.14761588,   2.69992085,  19.71340271]])"
      ]
     },
     "execution_count": 7,
     "metadata": {},
     "output_type": "execute_result"
    }
   ],
   "source": [
    "pred_mean"
   ]
  },
  {
   "cell_type": "code",
   "execution_count": 8,
   "metadata": {},
   "outputs": [
    {
     "data": {
      "text/plain": [
       "tensor([[5.1345e+01, 1.2518e+00, 4.9655e+00],\n",
       "        [1.2342e+02, 1.4074e-01, 1.8993e+00],\n",
       "        [8.1197e+01, 8.8701e+01, 1.0780e+00],\n",
       "        [8.4919e+01, 3.0367e-01, 2.3437e+00],\n",
       "        [6.4626e+01, 2.7808e+01, 3.2637e+00],\n",
       "        [4.7923e+01, 1.1606e+02, 5.0880e+00],\n",
       "        [1.7370e+02, 2.0589e+00, 1.0187e+01],\n",
       "        [4.7904e+01, 1.2274e+02, 2.8500e-01],\n",
       "        [1.0337e+02, 1.6751e+01, 1.8458e+00],\n",
       "        [8.0966e+01, 7.8526e+00, 9.4608e+00],\n",
       "        [6.3910e+01, 1.1401e+02, 4.1828e+01],\n",
       "        [1.2022e+02, 1.4751e+00, 9.7007e+00],\n",
       "        [1.5244e+02, 1.5300e+01, 2.9505e+01],\n",
       "        [1.1632e+02, 4.7714e-01, 3.0895e-02],\n",
       "        [6.1436e+01, 2.9155e+01, 1.9000e-01],\n",
       "        [2.1200e+02, 2.9770e+00, 2.9800e+00],\n",
       "        [8.4074e+01, 1.2344e+01, 2.3600e+00],\n",
       "        [1.5206e+02, 2.9740e+00, 7.9200e+00],\n",
       "        [7.0780e+01, 1.9693e+00, 1.7900e+00],\n",
       "        [5.0765e+01, 6.3048e+01, 3.3800e+00],\n",
       "        [1.1700e+02, 4.3944e+01, 5.2600e+00],\n",
       "        [1.2871e+02, 4.3617e+01, 6.2700e+01],\n",
       "        [7.5335e+02, 2.5528e+01, 1.0200e+00],\n",
       "        [1.4286e+02, 4.4030e+00, 9.2100e+01],\n",
       "        [2.4191e+02, 9.4903e-01, 1.7000e-01],\n",
       "        [3.8811e+02, 2.9410e+00, 1.0500e+01],\n",
       "        [1.2278e+02, 2.0965e+00, 2.4900e+01],\n",
       "        [1.8191e+02, 1.1874e+00, 2.1000e+00],\n",
       "        [2.7392e+02, 5.4938e-01, 1.0000e+00],\n",
       "        [3.2532e+02, 7.4095e+00, 1.0090e+01],\n",
       "        [1.1385e+02, 3.1232e+00, 6.2070e+01],\n",
       "        [6.3481e+02, 3.3501e-01, 2.0500e+01]], dtype=torch.float64)"
      ]
     },
     "execution_count": 8,
     "metadata": {},
     "output_type": "execute_result"
    }
   ],
   "source": [
    "y"
   ]
  },
  {
   "cell_type": "code",
   "execution_count": 9,
   "metadata": {},
   "outputs": [
    {
     "data": {
      "text/plain": [
       "array([[ 9.27108894e-02,  1.59314676e+00,  1.11646279e-01],\n",
       "       [ 2.18399208e-02,  1.32184492e+01,  6.16269888e-01],\n",
       "       [ 9.69950435e-02, -7.41764350e-02,  1.41041931e+00],\n",
       "       [ 6.55490470e-02,  7.05456646e+00,  4.61141696e-01],\n",
       "       [ 9.05669388e-02, -2.19035619e-02,  3.17914700e-01],\n",
       "       [ 1.27108204e-01, -7.54562877e-02,  1.22507436e-01],\n",
       "       [ 1.02201346e-02,  8.00985046e-01,  2.59716091e-02],\n",
       "       [ 1.35826342e-01, -7.94068995e-02,  4.02835180e+00],\n",
       "       [ 2.45076324e-02,  4.21679784e-02,  7.06896262e-01],\n",
       "       [ 3.86217003e-02,  1.63354912e-01,  1.08154154e-01],\n",
       "       [ 9.76432735e-02, -7.55737934e-02, -6.62053288e-02],\n",
       "       [ 1.54342587e-02,  1.54071081e+00,  3.59522507e-02],\n",
       "       [-3.69228953e-03,  8.47630562e-02, -4.55171194e-02],\n",
       "       [ 1.92761538e-02,  4.65348398e+00,  4.78988772e+01],\n",
       "       [ 7.39646495e-02, -1.79943862e-02,  6.69002281e+00],\n",
       "       [-1.57017725e-02,  6.26980723e-01,  3.20183964e-01],\n",
       "       [ 3.50883572e-02,  1.30868965e-01,  3.82646352e-01],\n",
       "       [ 5.91246784e-04,  6.61719207e-01,  5.44155429e-02],\n",
       "       [ 3.97869873e-02,  1.06731993e+00,  5.47305848e-01],\n",
       "       [ 8.85502581e-02, -4.79033496e-02,  3.21199538e-01],\n",
       "       [ 1.20261619e-02, -5.19896482e-02,  1.31627091e-01],\n",
       "       [ 1.38484030e-02, -4.29920628e-02, -7.43770679e-02],\n",
       "       [-3.46688675e-02, -7.10834370e-03,  1.12703027e+00],\n",
       "       [ 3.11356571e-03,  4.08129491e-01, -8.13649054e-02],\n",
       "       [-2.45083857e-02,  2.05981218e+00,  6.37585044e+00],\n",
       "       [-2.70803392e-02,  1.02042208e+00,  2.43940998e-02],\n",
       "       [ 1.14793124e-02,  1.02526037e+00, -4.29784027e-02],\n",
       "       [-2.45819044e-03,  1.88348223e+00,  4.92621998e-01],\n",
       "       [-1.82497829e-02,  4.96311295e+00,  1.25229650e+00],\n",
       "       [-2.17332487e-02,  1.36544425e-01,  2.79670199e-02],\n",
       "       [ 1.37698678e-02,  6.32469227e-01, -7.74148369e-02],\n",
       "       [-3.09771427e-02,  7.05922465e+00, -3.83705994e-02]])"
      ]
     },
     "execution_count": 9,
     "metadata": {},
     "output_type": "execute_result"
    }
   ],
   "source": [
    "(pred_mean - y.numpy())/y.numpy()"
   ]
  },
  {
   "cell_type": "markdown",
   "metadata": {},
   "source": [
    "# LOO cross-validation"
   ]
  },
  {
   "cell_type": "code",
   "execution_count": 10,
   "metadata": {},
   "outputs": [],
   "source": [
    "from sklearn.model_selection import LeaveOneOut\n",
    "from sklearn.metrics import r2_score\n",
    "from sklearn.metrics import mean_absolute_percentage_error"
   ]
  },
  {
   "cell_type": "code",
   "execution_count": 11,
   "metadata": {},
   "outputs": [],
   "source": [
    "# select train-validation datasets\n",
    "loo = LeaveOneOut()\n",
    "data_split = loo.split(range(len(x)))\n",
    "\n",
    "train_r2_list = []\n",
    "val_mape_list = []\n",
    "\n",
    "for train_index, test_index in data_split:\n",
    "    #train model \n",
    "    x_train, y_train = x[train_index, :], y[train_index, :]\n",
    "    x_val, y_val = x[test_index, :], y[test_index, :]\n",
    "\n",
    "    models = []\n",
    "    for i in range(len(objective_properties)):\n",
    "        models.append(\n",
    "            SingleTaskGP(x_train, y_train[:,i].unsqueeze(-1), outcome_transform=Standardize(m=1))\n",
    "        )\n",
    "    model = ModelListGP(*models)\n",
    "    mll = SumMarginalLogLikelihood(model.likelihood, model)\n",
    "    mll = mll.to(x_train)\n",
    "\n",
    "    # fit model\n",
    "    fit_gpytorch_mll(mll)\n",
    "\n",
    "    # evaluate\n",
    "    model.eval()\n",
    "    posterior = model.posterior(x_train)\n",
    "    pred_mean_train = posterior.mean.detach().numpy() \n",
    "    train_r2_list.append(r2_score(y_true=y_train, y_pred=pred_mean_train))    \n",
    "\n",
    "    posterior = model.posterior(x_val)\n",
    "    pred_mean_val = posterior.mean.detach().numpy()\n",
    "    # mape = torch.max(np.abs((y_val - pred_mean_val)/y_val)*100)\n",
    "    mape = mean_absolute_percentage_error(y_val, pred_mean_val)\n",
    "    val_mape_list.append(mape)\n"
   ]
  },
  {
   "cell_type": "code",
   "execution_count": 14,
   "metadata": {},
   "outputs": [
    {
     "data": {
      "text/plain": [
       "tensor([[6.3481e+02, 3.3501e-01, 2.0500e+01]], dtype=torch.float64)"
      ]
     },
     "execution_count": 14,
     "metadata": {},
     "output_type": "execute_result"
    }
   ],
   "source": [
    "y_val"
   ]
  },
  {
   "cell_type": "code",
   "execution_count": 15,
   "metadata": {},
   "outputs": [
    {
     "data": {
      "text/plain": [
       "array([[156.55797765,  26.49370475,  11.924981  ]])"
      ]
     },
     "execution_count": 15,
     "metadata": {},
     "output_type": "execute_result"
    }
   ],
   "source": [
    "pred_mean_val"
   ]
  },
  {
   "cell_type": "markdown",
   "metadata": {},
   "source": [
    "Validation MAPE high for some test cases. Regression model accuracy is low."
   ]
  },
  {
   "cell_type": "markdown",
   "metadata": {},
   "source": [
    "# K-fold cross validation\n",
    "\n",
    "Performance metric R2 value with 5-fold cross validation"
   ]
  },
  {
   "cell_type": "code",
   "execution_count": 4,
   "metadata": {},
   "outputs": [],
   "source": [
    "from sklearn.model_selection import KFold\n",
    "from sklearn.metrics import r2_score\n",
    "from sklearn.metrics import mean_absolute_percentage_error"
   ]
  },
  {
   "cell_type": "code",
   "execution_count": 5,
   "metadata": {},
   "outputs": [],
   "source": [
    "kfold = KFold(n_splits=5, shuffle=True, random_state=0)\n",
    "data_split = kfold.split(range(len(x)))\n",
    "\n",
    "train_r2_list = []\n",
    "val_mape_list = []\n",
    "val_r2_list = []\n",
    "all_r2_list = []\n",
    "\n",
    "for train_index, test_index in data_split:\n",
    "    #train model \n",
    "    x_train, y_train = x[train_index, :], y[train_index, :]\n",
    "    x_val, y_val = x[test_index, :], y[test_index, :]\n",
    "\n",
    "    models = []\n",
    "    for i in range(len(objective_properties)):\n",
    "        models.append(\n",
    "            SingleTaskGP(x_train, y_train[:,i].unsqueeze(-1), outcome_transform=Standardize(m=1))\n",
    "        )\n",
    "    model = ModelListGP(*models)\n",
    "    mll = SumMarginalLogLikelihood(model.likelihood, model)\n",
    "    mll = mll.to(x_train)\n",
    "\n",
    "    # fit model\n",
    "    fit_gpytorch_mll(mll)\n",
    "\n",
    "    # evaluate\n",
    "    model.eval()\n",
    "    posterior = model.posterior(x_train)\n",
    "    pred_mean_train = posterior.mean.detach().numpy() \n",
    "    train_r2_list.append(r2_score(y_true=y_train, y_pred=pred_mean_train))    \n",
    "\n",
    "    posterior = model.posterior(x_val)\n",
    "    pred_mean_val = posterior.mean.detach().numpy()\n",
    "    # mape = torch.max(np.abs((y_val - pred_mean_val)/y_val)*100)\n",
    "    mape = mean_absolute_percentage_error(y_val, pred_mean_val)\n",
    "    val_mape_list.append(mape)\n",
    "\n",
    "    val_r2_list.append(r2_score(y_true=y_val, y_pred=pred_mean_val))\n",
    "\n",
    "    posterior = model.posterior(x)\n",
    "    pred_mean_all = posterior.mean.detach().numpy()\n",
    "    all_r2_list.append(r2_score(y_true=y, y_pred=pred_mean_all))\n",
    "    "
   ]
  },
  {
   "cell_type": "code",
   "execution_count": 6,
   "metadata": {},
   "outputs": [
    {
     "data": {
      "text/plain": [
       "[0.9934301058189429,\n",
       " 0.9922793613048736,\n",
       " 0.9908463370033634,\n",
       " 0.9888278052481584,\n",
       " 0.991679506369814]"
      ]
     },
     "execution_count": 6,
     "metadata": {},
     "output_type": "execute_result"
    }
   ],
   "source": [
    "train_r2_list"
   ]
  },
  {
   "cell_type": "code",
   "execution_count": 7,
   "metadata": {},
   "outputs": [
    {
     "data": {
      "text/plain": [
       "[-0.22439190093787512,\n",
       " -0.6642662524240138,\n",
       " -102.07596783666071,\n",
       " -3.432268444254859,\n",
       " -0.640603988617683]"
      ]
     },
     "execution_count": 7,
     "metadata": {},
     "output_type": "execute_result"
    }
   ],
   "source": [
    "val_r2_list"
   ]
  },
  {
   "cell_type": "code",
   "execution_count": 8,
   "metadata": {},
   "outputs": [
    {
     "data": {
      "text/plain": [
       "[0.6669464926895264,\n",
       " 0.8693740261663457,\n",
       " 0.6095830806810407,\n",
       " 0.8386902019377457,\n",
       " 0.8845588431754384]"
      ]
     },
     "execution_count": 8,
     "metadata": {},
     "output_type": "execute_result"
    }
   ],
   "source": [
    "all_r2_list"
   ]
  },
  {
   "cell_type": "code",
   "execution_count": 9,
   "metadata": {},
   "outputs": [
    {
     "name": "stdout",
     "output_type": "stream",
     "text": [
      "Average R2 score 5-fold cross validation =  0.7738305289300195\n"
     ]
    }
   ],
   "source": [
    "all_r2_list = np.array(all_r2_list)\n",
    "print(\"Average R2 score 5-fold cross validation = \", all_r2_list.mean())"
   ]
  },
  {
   "cell_type": "markdown",
   "metadata": {},
   "source": [
    "Average R2 Score higher than gpytorch ExactGP model"
   ]
  },
  {
   "cell_type": "markdown",
   "metadata": {},
   "source": [
    "Training individual outputs"
   ]
  },
  {
   "cell_type": "code",
   "execution_count": 18,
   "metadata": {},
   "outputs": [],
   "source": [
    "def fit_model(model, train_x):\n",
    "    mll = ExactMarginalLogLikelihood(likelihood=model.likelihood, model=model)\n",
    "\n",
    "    optimizer = Adam([{\"params\": model.parameters()}], lr=0.1)\n",
    "\n",
    "    loss_history = []\n",
    "\n",
    "    NUM_EPOCHS = 500\n",
    "    model.train()\n",
    "\n",
    "    for epoch in range(NUM_EPOCHS):\n",
    "        optimizer.zero_grad()\n",
    "        output = model(train_x)\n",
    "        loss = -mll(output, model.train_targets)\n",
    "        loss.backward()\n",
    "        optimizer.step()\n",
    "        # loss_history.append(model.likelihood.noise.item())\n",
    "        loss_history.append(loss.item())\n",
    "        # if (epoch + 1 )%10 == 0:\n",
    "        #     print(\n",
    "        #         f\"Epoch {epoch+1:>3}/{NUM_EPOCHS} - Loss: {loss.item():>4.3f} \"\n",
    "        #         f\"noise: {model.likelihood.noise.item():>4.3f}\"\n",
    "        #     )\n",
    "    return model, mll, loss_history"
   ]
  },
  {
   "cell_type": "code",
   "execution_count": 21,
   "metadata": {},
   "outputs": [],
   "source": [
    "model_ps = SingleTaskGP(x, y[:, 0].unsqueeze(-1), outcome_transform=Standardize(m=1))\n",
    "model_ps, mll_ps, loss_history_ps = fit_model(model=model_ps, train_x=x)\n",
    "\n",
    "model_ge = SingleTaskGP(x, y[:, 1].unsqueeze(-1), outcome_transform=Standardize(m=1))\n",
    "model_ge, mll_ge, loss_history_ge = fit_model(model=model_ge, train_x=x)\n",
    "\n",
    "model_sm = SingleTaskGP(x, y[:, 2].unsqueeze(-1), outcome_transform=Standardize(m=1))\n",
    "model_sm, mll_sm, loss_history_sm = fit_model(model=model_sm, train_x=x)"
   ]
  },
  {
   "cell_type": "code",
   "execution_count": 20,
   "metadata": {},
   "outputs": [
    {
     "data": {
      "image/png": "[encoded data removed]",
      "text/plain": [
       "<Figure size 640x480 with 1 Axes>"
      ]
     },
     "metadata": {},
     "output_type": "display_data"
    }
   ],
   "source": [
    "plt.plot(loss_history_ps)\n",
    "plt.title(\"Convergence history\", fontweight='demibold')\n",
    "plt.xlabel('Epochs')\n",
    "plt.ylabel('Loss')\n",
    "plt.show()"
   ]
  },
  {
   "cell_type": "code",
   "execution_count": null,
   "metadata": {},
   "outputs": [],
   "source": []
  }
 ],
 "metadata": {
  "kernelspec": {
   "display_name": "botorch",
   "language": "python",
   "name": "python3"
  },
  "language_info": {
   "codemirror_mode": {
    "name": "ipython",
    "version": 3
   },
   "file_extension": ".py",
   "mimetype": "text/x-python",
   "name": "python",
   "nbconvert_exporter": "python",
   "pygments_lexer": "ipython3",
   "version": "3.11.9"
  }
 },
 "nbformat": 4,
 "nbformat_minor": 2
}
