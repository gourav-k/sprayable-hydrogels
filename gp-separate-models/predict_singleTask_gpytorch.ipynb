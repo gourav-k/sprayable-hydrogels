{
 "cells": [
  {
   "cell_type": "markdown",
   "metadata": {},
   "source": [
    "# gpytorch for SingleTask GP\n",
    "\n",
    "Separate models for all outputs"
   ]
  },
  {
   "cell_type": "code",
   "execution_count": 1,
   "metadata": {},
   "outputs": [
    {
     "name": "stderr",
     "output_type": "stream",
     "text": [
      "c:\\Users\\goura\\anaconda3\\envs\\botorch\\Lib\\site-packages\\tqdm\\auto.py:21: TqdmWarning: IProgress not found. Please update jupyter and ipywidgets. See https://ipywidgets.readthedocs.io/en/stable/user_install.html\n",
      "  from .autonotebook import tqdm as notebook_tqdm\n"
     ]
    }
   ],
   "source": [
    "import torch\n",
    "import pandas as pd\n",
    "import numpy as np\n",
    "import matplotlib.pyplot as plt\n",
    "from botorch.utils.transforms import unnormalize, normalize\n",
    "import gpytorch\n",
    "from botorch.models.transforms.outcome import Standardize\n",
    "from torch.optim import Adam\n",
    "from gpytorch.mlls.sum_marginal_log_likelihood import SumMarginalLogLikelihood"
   ]
  },
  {
   "cell_type": "markdown",
   "metadata": {},
   "source": [
    "Read and normalize data"
   ]
  },
  {
   "cell_type": "code",
   "execution_count": 2,
   "metadata": {},
   "outputs": [],
   "source": [
    "filename = r'../data/olhs_combine.xlsx'\n",
    "x_pd = pd.read_excel(filename, sheet_name='Design', header=[0,1], index_col=[0])\n",
    "y_pd = pd.read_excel(filename, sheet_name='bo_data', header=[0,1], index_col=[0])\n",
    "\n",
    "dtype=torch.double\n",
    "\n",
    "objective_properties = ['Polymer Solubility', 'Gelation Enthalpy', 'Shear Modulus']\n",
    "\n",
    "x_np = x_pd.values\n",
    "y_np = y_pd[objective_properties].values\n",
    "\n",
    "x = torch.tensor(x_np, dtype=dtype)\n",
    "y = torch.tensor(y_np, dtype=dtype)\n",
    "\n",
    "x_bounds = np.array([[2000, 10000], [0, 100], [0, 40], [5000, 15000], [80, 100], [0,100], [60, 100], [70, 100]])\n",
    "x_bounds = torch.tensor(x_bounds.T, dtype=dtype)\n",
    "\n",
    "x = normalize(x, bounds=x_bounds)\n",
    "\n",
    "outcome_transform = Standardize(m=3)\n",
    "y = outcome_transform(y)[0]"
   ]
  },
  {
   "cell_type": "code",
   "execution_count": 3,
   "metadata": {},
   "outputs": [],
   "source": [
    "# identify non-feasible designs\n",
    "mfg = y_pd['Manufacturability'].values\n",
    "feas_bool = mfg==1\n",
    "x = x[feas_bool.flatten(), :] \n",
    "y = y[feas_bool.flatten(), :]"
   ]
  },
  {
   "cell_type": "markdown",
   "metadata": {},
   "source": [
    "Define model class"
   ]
  },
  {
   "cell_type": "code",
   "execution_count": 4,
   "metadata": {},
   "outputs": [],
   "source": [
    "class ExactGPModel(gpytorch.models.ExactGP):\n",
    "    def __init__(self, train_x, train_y, likelihood):\n",
    "        super(ExactGPModel, self).__init__(train_x, train_y, likelihood)\n",
    "        self.mean_module = gpytorch.means.ConstantMean()\n",
    "        self.covar_module = gpytorch.kernels.ScaleKernel(gpytorch.kernels.RBFKernel())\n",
    "    \n",
    "    def forward(self, x):\n",
    "        mean_x = self.mean_module(x)\n",
    "        covar_x = self.covar_module(x)\n",
    "        return gpytorch.distributions.MultivariateNormal(mean_x, covar_x)"
   ]
  },
  {
   "cell_type": "code",
   "execution_count": 5,
   "metadata": {},
   "outputs": [],
   "source": [
    "models = []\n",
    "likelihoods = []\n",
    "\n",
    "for i in range(len(objective_properties)):\n",
    "    likelihoods.append(\n",
    "        gpytorch.likelihoods.GaussianLikelihood()\n",
    "    )\n",
    "    models.append(\n",
    "        ExactGPModel(train_x=x, train_y=y[:, i], likelihood=likelihoods[i])\n",
    "    )\n",
    "model = gpytorch.models.IndependentModelList(*models)\n",
    "likelihood = gpytorch.likelihoods.LikelihoodList(*likelihoods)"
   ]
  },
  {
   "cell_type": "code",
   "execution_count": 6,
   "metadata": {},
   "outputs": [],
   "source": [
    "mll = SumMarginalLogLikelihood(likelihood, model)"
   ]
  },
  {
   "cell_type": "markdown",
   "metadata": {},
   "source": [
    "Fit the model"
   ]
  },
  {
   "cell_type": "code",
   "execution_count": 14,
   "metadata": {},
   "outputs": [],
   "source": [
    "model.train()\n",
    "likelihood.train()\n",
    "\n",
    "optimizer = Adam(model.parameters(), lr=0.1)\n",
    "loss_history = []\n",
    "\n",
    "for i in range(500):\n",
    "    optimizer.zero_grad()\n",
    "    output = model(*model.train_inputs)\n",
    "    loss = -mll(output, model.train_targets)\n",
    "    loss.backward()\n",
    "    loss_history.append(loss.item())\n",
    "    optimizer.step()"
   ]
  },
  {
   "cell_type": "code",
   "execution_count": 15,
   "metadata": {},
   "outputs": [
    {
     "data": {
      "image/png": "[encoded data removed]",
      "text/plain": [
       "<Figure size 640x480 with 1 Axes>"
      ]
     },
     "metadata": {},
     "output_type": "display_data"
    }
   ],
   "source": [
    "plt.plot(loss_history)\n",
    "plt.show()"
   ]
  },
  {
   "cell_type": "markdown",
   "metadata": {},
   "source": [
    "Predictions"
   ]
  },
  {
   "cell_type": "code",
   "execution_count": 16,
   "metadata": {},
   "outputs": [
    {
     "name": "stderr",
     "output_type": "stream",
     "text": [
      "c:\\Users\\goura\\anaconda3\\envs\\botorch\\Lib\\site-packages\\gpytorch\\models\\exact_gp.py:284: GPInputWarning: The input matches the stored training data. Did you forget to call model.train()?\n",
      "  warnings.warn(\n"
     ]
    }
   ],
   "source": [
    "model.eval()\n",
    "likelihood.eval()\n",
    "\n",
    "with torch.no_grad():\n",
    "    posterior = likelihood(*model(x, x, x))"
   ]
  },
  {
   "cell_type": "markdown",
   "metadata": {},
   "source": [
    "## K-fold cross validation"
   ]
  },
  {
   "cell_type": "code",
   "execution_count": 7,
   "metadata": {},
   "outputs": [],
   "source": [
    "from sklearn.metrics import r2_score\n",
    "from sklearn.metrics import mean_absolute_percentage_error\n",
    "from sklearn.model_selection import KFold"
   ]
  },
  {
   "cell_type": "code",
   "execution_count": 10,
   "metadata": {},
   "outputs": [
    {
     "name": "stderr",
     "output_type": "stream",
     "text": [
      "c:\\Users\\goura\\anaconda3\\envs\\botorch\\Lib\\site-packages\\gpytorch\\models\\exact_gp.py:284: GPInputWarning: The input matches the stored training data. Did you forget to call model.train()?\n",
      "  warnings.warn(\n",
      "c:\\Users\\goura\\anaconda3\\envs\\botorch\\Lib\\site-packages\\gpytorch\\models\\exact_gp.py:284: GPInputWarning: The input matches the stored training data. Did you forget to call model.train()?\n",
      "  warnings.warn(\n",
      "c:\\Users\\goura\\anaconda3\\envs\\botorch\\Lib\\site-packages\\gpytorch\\models\\exact_gp.py:284: GPInputWarning: The input matches the stored training data. Did you forget to call model.train()?\n",
      "  warnings.warn(\n",
      "c:\\Users\\goura\\anaconda3\\envs\\botorch\\Lib\\site-packages\\gpytorch\\models\\exact_gp.py:284: GPInputWarning: The input matches the stored training data. Did you forget to call model.train()?\n",
      "  warnings.warn(\n",
      "c:\\Users\\goura\\anaconda3\\envs\\botorch\\Lib\\site-packages\\gpytorch\\models\\exact_gp.py:284: GPInputWarning: The input matches the stored training data. Did you forget to call model.train()?\n",
      "  warnings.warn(\n"
     ]
    }
   ],
   "source": [
    "kfold = KFold(n_splits=5, shuffle=True, random_state=0)\n",
    "data_split = kfold.split(range(len(x)))\n",
    "\n",
    "train_r2_list = []\n",
    "val_mape_list = []\n",
    "val_r2_list = []\n",
    "all_r2_list = []\n",
    "\n",
    "for train_index, test_index in data_split:\n",
    "    # train model\n",
    "    x_train, y_train = x[train_index, :], y[train_index, :]\n",
    "    x_val, y_val = x[test_index, :], y[test_index, :]\n",
    "\n",
    "    models = []\n",
    "    likelihoods = []\n",
    "\n",
    "    for i in range(len(objective_properties)):\n",
    "        likelihoods.append(\n",
    "            gpytorch.likelihoods.GaussianLikelihood()\n",
    "        )\n",
    "        models.append(\n",
    "            ExactGPModel(train_x=x_train, train_y=y_train[:, i], likelihood=likelihoods[i])\n",
    "        )\n",
    "    model = gpytorch.models.IndependentModelList(*models)\n",
    "    likelihood = gpytorch.likelihoods.LikelihoodList(*likelihoods)\n",
    "    mll = SumMarginalLogLikelihood(likelihood, model)\n",
    "\n",
    "    # fit models\n",
    "    \n",
    "    model.train()\n",
    "    likelihood.train()\n",
    "\n",
    "    optimizer = Adam(model.parameters(), lr=0.1)\n",
    "    loss_history = []\n",
    "\n",
    "    for i in range(500):\n",
    "        optimizer.zero_grad()\n",
    "        output = model(*model.train_inputs)\n",
    "        loss = -mll(output, model.train_targets)\n",
    "        loss.backward()\n",
    "        loss_history.append(loss.item())\n",
    "        optimizer.step()\n",
    "\n",
    "    # evaluate\n",
    "    model.eval()\n",
    "    likelihood.eval()\n",
    "\n",
    "    with torch.no_grad():\n",
    "        posterior = likelihood(*model(x_train, x_train, x_train))\n",
    "    pred_mean_all = torch.zeros((len(x_train), 3))\n",
    "    for i in range(3):\n",
    "        tmp_ = posterior[i].mean\n",
    "        pred_mean_all[:, i] = tmp_\n",
    "    train_r2_list.append(r2_score(y_true=y_train, y_pred=pred_mean_all))\n",
    "\n",
    "    with torch.no_grad():\n",
    "        posterior = likelihood(*model(x_val, x_val, x_val))\n",
    "    pred_mean_all = torch.zeros((len(x_val), 3))\n",
    "    for i in range(3):\n",
    "        tmp_ = posterior[i].mean\n",
    "        pred_mean_all[:, i] = tmp_\n",
    "    val_r2_list.append(r2_score(y_true=y_val, y_pred=pred_mean_all))\n",
    "\n",
    "    with torch.no_grad():\n",
    "        posterior = likelihood(*model(x, x, x))\n",
    "    pred_mean_all = torch.zeros((32, 3))\n",
    "    for i in range(3):\n",
    "        tmp_ = posterior[i].mean\n",
    "        pred_mean_all[:, i] = tmp_\n",
    "    all_r2_list.append(r2_score(y_true=y, y_pred=pred_mean_all))\n"
   ]
  },
  {
   "cell_type": "code",
   "execution_count": 11,
   "metadata": {},
   "outputs": [
    {
     "data": {
      "text/plain": [
       "[0.636781322050666,\n",
       " 0.7227273837505339,\n",
       " 0.45029213628474735,\n",
       " 0.42012415367761147,\n",
       " 0.7944212256729214]"
      ]
     },
     "execution_count": 11,
     "metadata": {},
     "output_type": "execute_result"
    }
   ],
   "source": [
    "all_r2_list"
   ]
  },
  {
   "cell_type": "code",
   "execution_count": 12,
   "metadata": {},
   "outputs": [
    {
     "name": "stdout",
     "output_type": "stream",
     "text": [
      "Average R2 score 5-fold cross validation =  0.604869244287296\n"
     ]
    }
   ],
   "source": [
    "all_r2_list = np.array(all_r2_list)\n",
    "print(\"Average R2 score 5-fold cross validation = \", all_r2_list.mean())"
   ]
  },
  {
   "cell_type": "markdown",
   "metadata": {},
   "source": [
    "Average R2 score lower than BOTorch SingleTaskGP"
   ]
  }
 ],
 "metadata": {
  "kernelspec": {
   "display_name": "botorch",
   "language": "python",
   "name": "python3"
  },
  "language_info": {
   "codemirror_mode": {
    "name": "ipython",
    "version": 3
   },
   "file_extension": ".py",
   "mimetype": "text/x-python",
   "name": "python",
   "nbconvert_exporter": "python",
   "pygments_lexer": "ipython3",
   "version": "3.11.9"
  }
 },
 "nbformat": 4,
 "nbformat_minor": 2
}
