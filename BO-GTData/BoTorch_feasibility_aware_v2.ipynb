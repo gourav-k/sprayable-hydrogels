{
 "cells": [
  {
   "cell_type": "markdown",
   "metadata": {},
   "source": [
    "# Use BoTorch for feasibility weighted acquisition function"
   ]
  },
  {
   "cell_type": "markdown",
   "metadata": {},
   "source": [
    "import libearies"
   ]
  },
  {
   "cell_type": "code",
   "execution_count": 1,
   "metadata": {},
   "outputs": [
    {
     "name": "stderr",
     "output_type": "stream",
     "text": [
      "c:\\Users\\goura\\anaconda3\\envs\\botorch\\Lib\\site-packages\\tqdm\\auto.py:21: TqdmWarning: IProgress not found. Please update jupyter and ipywidgets. See https://ipywidgets.readthedocs.io/en/stable/user_install.html\n",
      "  from .autonotebook import tqdm as notebook_tqdm\n"
     ]
    }
   ],
   "source": [
    "import pandas as pd\n",
    "import numpy as np\n",
    "import torch\n",
    "import botorch\n",
    "import gpytorch\n",
    "import matplotlib.pyplot as plt\n",
    "\n",
    "#modules for regression\n",
    "from botorch.models.gp_regression import SingleTaskGP\n",
    "from botorch.models.model_list_gp_regression import ModelListGP\n",
    "from botorch.models.transforms.outcome import Standardize\n",
    "from gpytorch.mlls.sum_marginal_log_likelihood import SumMarginalLogLikelihood\n",
    "from botorch.utils.transforms import unnormalize, normalize\n",
    "\n",
    "#modules for BO\n",
    "from botorch.optim.optimize import optimize_acqf, optimize_acqf_list\n",
    "from botorch.acquisition.objective import GenericMCObjective\n",
    "from botorch.utils.multi_objective.scalarization import get_chebyshev_scalarization\n",
    "from botorch.utils.multi_objective.box_decompositions.non_dominated import (\n",
    "    FastNondominatedPartitioning,\n",
    ")\n",
    "from botorch.acquisition.multi_objective.monte_carlo import (\n",
    "    qExpectedHypervolumeImprovement,\n",
    "    qNoisyExpectedHypervolumeImprovement,\n",
    ")\n",
    "from botorch.utils.sampling import sample_simplex\n",
    "from botorch import fit_gpytorch_mll\n",
    "from botorch.exceptions import BadInitialCandidatesWarning\n",
    "from botorch.sampling.normal import SobolQMCNormalSampler\n",
    "from botorch.utils.multi_objective.box_decompositions.dominated import (\n",
    "    DominatedPartitioning,\n",
    ")\n",
    "from botorch.utils.multi_objective.pareto import is_non_dominated\n",
    "\n",
    "from gpytorch.likelihoods import DirichletClassificationLikelihood\n",
    "from botorch.acquisition.multi_objective.objective import IdentityMCMultiOutputObjective\n"
   ]
  },
  {
   "cell_type": "markdown",
   "metadata": {},
   "source": [
    "Read and normalize data"
   ]
  },
  {
   "cell_type": "code",
   "execution_count": 2,
   "metadata": {},
   "outputs": [],
   "source": [
    "filename = r'../data/olhs_run1.xlsx'\n",
    "x_pd = pd.read_excel(filename, sheet_name='Initial Design (OLHS)', header=[0,1], index_col=[0])\n",
    "y_pd = pd.read_excel(filename, sheet_name='bo_data', header=[0,1], index_col=[0])\n",
    "\n",
    "dtype=torch.double\n",
    "\n",
    "objective_properties = ['Polymer Solubility', 'Gelation Enthalpy', 'Shear Modulus']\n",
    "\n",
    "x = torch.tensor(x_pd.values, dtype=dtype)\n",
    "y = torch.tensor(y_pd[objective_properties].values, dtype=dtype)\n",
    "mfg = torch.tensor(y_pd['Manufacturability'].values, dtype=torch.long)\n",
    "\n",
    "x_bounds = np.array([[2000, 10000], [0, 100], [0, 40], [5000, 15000], [80, 100], [0,100], [60, 100], [70, 100]])\n",
    "x_bounds = torch.tensor(x_bounds.T, dtype=dtype)\n",
    "\n",
    "x = normalize(x, bounds=x_bounds)"
   ]
  },
  {
   "cell_type": "code",
   "execution_count": 5,
   "metadata": {},
   "outputs": [],
   "source": [
    "y_all = torch.cat((y, mfg), dim=1)"
   ]
  },
  {
   "cell_type": "markdown",
   "metadata": {},
   "source": [
    "Helper functions"
   ]
  },
  {
   "cell_type": "markdown",
   "metadata": {},
   "source": [
    "Define and initialize regression and classification model"
   ]
  },
  {
   "cell_type": "code",
   "execution_count": 3,
   "metadata": {},
   "outputs": [],
   "source": [
    "# Regression model\n",
    "models = []\n",
    "for i in range(len(objective_properties)):\n",
    "    models.append(SingleTaskGP(x, y[:, i].unsqueeze(-1), \n",
    "                               outcome_transform=Standardize(m=1)))\n",
    "\n",
    "# transformation of mfg labels\n",
    "tmp_likl = DirichletClassificationLikelihood(targets=mfg.squeeze(), alpha_epsilon=1e-4, \n",
    "                                             learn_additional_noise=False)\n",
    "cls_model = SingleTaskGP(train_X=x, train_Y=-tmp_likl.transformed_targets.T.double(), \n",
    "                         outcome_transform=Standardize(m=2))\n",
    "\n",
    "models.append(cls_model)\n",
    "\n",
    "model = ModelListGP(*models)\n",
    "mll = SumMarginalLogLikelihood(model.likelihood, model)\n",
    "mll = mll.to(x)"
   ]
  },
  {
   "cell_type": "markdown",
   "metadata": {},
   "source": [
    "Fit the models to data"
   ]
  },
  {
   "cell_type": "code",
   "execution_count": 4,
   "metadata": {},
   "outputs": [
    {
     "data": {
      "text/plain": [
       "SumMarginalLogLikelihood(\n",
       "  (likelihood): LikelihoodList(\n",
       "    (likelihoods): ModuleList(\n",
       "      (0-3): 4 x GaussianLikelihood(\n",
       "        (noise_covar): HomoskedasticNoise(\n",
       "          (noise_prior): GammaPrior()\n",
       "          (raw_noise_constraint): GreaterThan(1.000E-04)\n",
       "        )\n",
       "      )\n",
       "    )\n",
       "  )\n",
       "  (model): ModelListGP(\n",
       "    (models): ModuleList(\n",
       "      (0-3): 4 x SingleTaskGP(\n",
       "        (likelihood): GaussianLikelihood(\n",
       "          (noise_covar): HomoskedasticNoise(\n",
       "            (noise_prior): GammaPrior()\n",
       "            (raw_noise_constraint): GreaterThan(1.000E-04)\n",
       "          )\n",
       "        )\n",
       "        (mean_module): ConstantMean()\n",
       "        (covar_module): ScaleKernel(\n",
       "          (base_kernel): MaternKernel(\n",
       "            (lengthscale_prior): GammaPrior()\n",
       "            (raw_lengthscale_constraint): Positive()\n",
       "          )\n",
       "          (outputscale_prior): GammaPrior()\n",
       "          (raw_outputscale_constraint): Positive()\n",
       "        )\n",
       "        (outcome_transform): Standardize()\n",
       "      )\n",
       "    )\n",
       "    (likelihood): LikelihoodList(\n",
       "      (likelihoods): ModuleList(\n",
       "        (0-3): 4 x GaussianLikelihood(\n",
       "          (noise_covar): HomoskedasticNoise(\n",
       "            (noise_prior): GammaPrior()\n",
       "            (raw_noise_constraint): GreaterThan(1.000E-04)\n",
       "          )\n",
       "        )\n",
       "      )\n",
       "    )\n",
       "  )\n",
       "  (mlls): ModuleList(\n",
       "    (0-3): 4 x ExactMarginalLogLikelihood(\n",
       "      (likelihood): GaussianLikelihood(\n",
       "        (noise_covar): HomoskedasticNoise(\n",
       "          (noise_prior): GammaPrior()\n",
       "          (raw_noise_constraint): GreaterThan(1.000E-04)\n",
       "        )\n",
       "      )\n",
       "      (model): SingleTaskGP(\n",
       "        (likelihood): GaussianLikelihood(\n",
       "          (noise_covar): HomoskedasticNoise(\n",
       "            (noise_prior): GammaPrior()\n",
       "            (raw_noise_constraint): GreaterThan(1.000E-04)\n",
       "          )\n",
       "        )\n",
       "        (mean_module): ConstantMean()\n",
       "        (covar_module): ScaleKernel(\n",
       "          (base_kernel): MaternKernel(\n",
       "            (lengthscale_prior): GammaPrior()\n",
       "            (raw_lengthscale_constraint): Positive()\n",
       "          )\n",
       "          (outputscale_prior): GammaPrior()\n",
       "          (raw_outputscale_constraint): Positive()\n",
       "        )\n",
       "        (outcome_transform): Standardize()\n",
       "      )\n",
       "    )\n",
       "  )\n",
       ")"
      ]
     },
     "execution_count": 4,
     "metadata": {},
     "output_type": "execute_result"
    }
   ],
   "source": [
    "# regression model\n",
    "fit_gpytorch_mll(mll)"
   ]
  },
  {
   "cell_type": "markdown",
   "metadata": {},
   "source": [
    "Prediction for sanity check"
   ]
  },
  {
   "cell_type": "code",
   "execution_count": 5,
   "metadata": {},
   "outputs": [
    {
     "data": {
      "text/plain": [
       "tensor([[ 53.0025,   4.3507,   5.1600,  13.3763,   0.7857],\n",
       "        [ 23.5312,  54.3269,   1.0192,   1.2660,  12.8960],\n",
       "        [ 38.3127,   6.4286,   1.5165,   1.2760,  12.8860],\n",
       "        [ 31.9368,   5.7843,   1.4786,   1.2722,  12.8898],\n",
       "        [120.8128,   3.3749,   2.3164,  13.4369,   0.7251],\n",
       "        [ 81.0235,  83.1740,   1.5724,  13.4353,   0.7267],\n",
       "        [ 84.5024,   3.5945,   2.7505,  13.3966,   0.7654],\n",
       "        [ 65.4618,  28.0365,   3.4917,  13.3777,   0.7843],\n",
       "        [ 49.5438, 107.8939,   5.2615,  13.3980,   0.7640],\n",
       "        [167.9699,   4.9255,   9.9088,  13.4172,   0.7448],\n",
       "        [ 49.5146, 113.7600,   0.7719,  13.3916,   0.7704],\n",
       "        [102.1682,  18.2934,   2.3548,  13.4071,   0.7549],\n",
       "        [ 81.0200,  10.2873,   9.3325,  13.4192,   0.7428],\n",
       "        [ 65.0121, 105.9470,  39.1052,  13.4326,   0.7294],\n",
       "        [ 37.5390,  44.1415,   1.3258,   1.2345,  12.9275],\n",
       "        [117.9476,   4.5463,   9.5441,  13.4365,   0.7255],\n",
       "        [148.2253,  17.0707,  27.8040,  13.4678,   0.6942],\n",
       "        [ 78.9440,  29.1472,  15.0018,   1.3611,  12.8009],\n",
       "        [114.1131,   3.8052,   0.5265,  13.4563,   0.7057],\n",
       "        [ 58.5138,   4.8950,   0.6237,   1.2375,  12.9245]],\n",
       "       dtype=torch.float64)"
      ]
     },
     "execution_count": 5,
     "metadata": {},
     "output_type": "execute_result"
    }
   ],
   "source": [
    "model.eval()\n",
    "\n",
    "with torch.no_grad():\n",
    "    posterior = model.posterior(x)\n",
    "    pred_mean = posterior.mean\n",
    "pred_mean"
   ]
  },
  {
   "cell_type": "markdown",
   "metadata": {},
   "source": [
    "Helper functions for BO"
   ]
  },
  {
   "cell_type": "code",
   "execution_count": 13,
   "metadata": {},
   "outputs": [],
   "source": [
    "bounds = torch.zeros(2, 8)\n",
    "bounds[1] = 1\n",
    "\n",
    "BATCH_SIZE = 4      # Number of candidates selected in each BO run/iteration\n",
    "NUM_RESTARTS = 10   # Restarts during BO run\n",
    "RAW_SAMPLES = 512   \n",
    "\n",
    "ref_point = ref_point = torch.tensor([18, 0.1, 0.01], dtype=dtype)"
   ]
  },
  {
   "cell_type": "code",
   "execution_count": 16,
   "metadata": {},
   "outputs": [],
   "source": [
    "from typing import Optional\n",
    "\n",
    "def obj_callable(Z: torch.Tensor, X: Optional[torch.Tensor] = None):\n",
    "    return IdentityMCMultiOutputObjective([0,1,2])\n",
    "\n",
    "def constraint_callable(Z):\n",
    "    class0 = Z[..., -2]\n",
    "    class1 = Z[..., -1]\n",
    "    return class1 - class0\n",
    "\n"
   ]
  },
  {
   "cell_type": "code",
   "execution_count": 14,
   "metadata": {},
   "outputs": [],
   "source": [
    "def optimize_qnehvi_and_get_observation(model, train_x, train_obj, sampler):\n",
    "    \"\"\"Optimizes the qEHVI acquisition function, and returns a new candidate and observation.\"\"\"\n",
    "    with torch.no_grad():\n",
    "        pred = model.posterior(normalize(train_x, x_bounds)).mean\n",
    "    \n",
    "    partitioning = FastNondominatedPartitioning(\n",
    "        ref_point= ref_point,\n",
    "        Y=pred,\n",
    "    )\n",
    "\n",
    "    acq_func = qNoisyExpectedHypervolumeImprovement(\n",
    "        model=model,\n",
    "        ref_point=ref_point,\n",
    "        X_baseline=train_x,\n",
    "        sampler=sampler,\n",
    "        prune_baseline=True,\n",
    "        objective=IdentityMCMultiOutputObjective(outcomes=[0, 1, 2]),\n",
    "        constraints=[constraint_callable],\n",
    "    )\n",
    "\n",
    "    #optimize\n",
    "    candidates, _ = optimize_acqf(\n",
    "        acq_function=acq_func,\n",
    "        bounds=bounds,\n",
    "        q=BATCH_SIZE,\n",
    "        num_restarts=NUM_RESTARTS,\n",
    "        raw_samples=RAW_SAMPLES,\n",
    "        options={\"batch_limit\":5, \"maxiter\": 200},\n",
    "        sequential=True,\n",
    "    )\n",
    "\n",
    "    new_x = unnormalize(candidates.detach(), bounds=x_bounds)\n",
    "    return new_x\n",
    "    "
   ]
  },
  {
   "cell_type": "code",
   "execution_count": 17,
   "metadata": {},
   "outputs": [
    {
     "ename": "RuntimeError",
     "evalue": "shape mismatch: value tensor of shape [5] cannot be broadcast to indexing result of shape [12288, 3]",
     "output_type": "error",
     "traceback": [
      "\u001b[1;31m---------------------------------------------------------------------------\u001b[0m",
      "\u001b[1;31mRuntimeError\u001b[0m                              Traceback (most recent call last)",
      "Cell \u001b[1;32mIn[17], line 3\u001b[0m\n\u001b[0;32m      1\u001b[0m sampler \u001b[38;5;241m=\u001b[39m SobolQMCNormalSampler(sample_shape\u001b[38;5;241m=\u001b[39mtorch\u001b[38;5;241m.\u001b[39mSize([\u001b[38;5;241m128\u001b[39m]))\n\u001b[1;32m----> 3\u001b[0m new_x_qnehvi \u001b[38;5;241m=\u001b[39m optimize_qnehvi_and_get_observation(model, x, y, sampler)\n",
      "Cell \u001b[1;32mIn[14], line 11\u001b[0m, in \u001b[0;36moptimize_qnehvi_and_get_observation\u001b[1;34m(model, train_x, train_obj, sampler)\u001b[0m\n\u001b[0;32m      4\u001b[0m     pred \u001b[38;5;241m=\u001b[39m model\u001b[38;5;241m.\u001b[39mposterior(normalize(train_x, x_bounds))\u001b[38;5;241m.\u001b[39mmean\n\u001b[0;32m      6\u001b[0m partitioning \u001b[38;5;241m=\u001b[39m FastNondominatedPartitioning(\n\u001b[0;32m      7\u001b[0m     ref_point\u001b[38;5;241m=\u001b[39m ref_point,\n\u001b[0;32m      8\u001b[0m     Y\u001b[38;5;241m=\u001b[39mpred,\n\u001b[0;32m      9\u001b[0m )\n\u001b[1;32m---> 11\u001b[0m acq_func \u001b[38;5;241m=\u001b[39m qNoisyExpectedHypervolumeImprovement(\n\u001b[0;32m     12\u001b[0m     model\u001b[38;5;241m=\u001b[39mmodel,\n\u001b[0;32m     13\u001b[0m     ref_point\u001b[38;5;241m=\u001b[39mref_point,\n\u001b[0;32m     14\u001b[0m     X_baseline\u001b[38;5;241m=\u001b[39mtrain_x,\n\u001b[0;32m     15\u001b[0m     sampler\u001b[38;5;241m=\u001b[39msampler,\n\u001b[0;32m     16\u001b[0m     prune_baseline\u001b[38;5;241m=\u001b[39m\u001b[38;5;28;01mTrue\u001b[39;00m,\n\u001b[0;32m     17\u001b[0m     objective\u001b[38;5;241m=\u001b[39mIdentityMCMultiOutputObjective(outcomes\u001b[38;5;241m=\u001b[39m[\u001b[38;5;241m0\u001b[39m, \u001b[38;5;241m1\u001b[39m, \u001b[38;5;241m2\u001b[39m]),\n\u001b[0;32m     18\u001b[0m     constraints\u001b[38;5;241m=\u001b[39m[constraint_callable],\n\u001b[0;32m     19\u001b[0m )\n\u001b[0;32m     21\u001b[0m \u001b[38;5;66;03m#optimize\u001b[39;00m\n\u001b[0;32m     22\u001b[0m candidates, _ \u001b[38;5;241m=\u001b[39m optimize_acqf(\n\u001b[0;32m     23\u001b[0m     acq_function\u001b[38;5;241m=\u001b[39macq_func,\n\u001b[0;32m     24\u001b[0m     bounds\u001b[38;5;241m=\u001b[39mbounds,\n\u001b[1;32m   (...)\u001b[0m\n\u001b[0;32m     29\u001b[0m     sequential\u001b[38;5;241m=\u001b[39m\u001b[38;5;28;01mTrue\u001b[39;00m,\n\u001b[0;32m     30\u001b[0m )\n",
      "File \u001b[1;32mc:\\Users\\goura\\anaconda3\\envs\\botorch\\Lib\\site-packages\\botorch\\acquisition\\multi_objective\\monte_carlo.py:420\u001b[0m, in \u001b[0;36mqNoisyExpectedHypervolumeImprovement.__init__\u001b[1;34m(self, model, ref_point, X_baseline, sampler, objective, constraints, X_pending, eta, fat, prune_baseline, alpha, cache_pending, max_iep, incremental_nehvi, cache_root, marginalize_dim)\u001b[0m\n\u001b[0;32m    411\u001b[0m MultiObjectiveMCAcquisitionFunction\u001b[38;5;241m.\u001b[39m\u001b[38;5;21m__init__\u001b[39m(\n\u001b[0;32m    412\u001b[0m     \u001b[38;5;28mself\u001b[39m,\n\u001b[0;32m    413\u001b[0m     model\u001b[38;5;241m=\u001b[39mmodel,\n\u001b[1;32m   (...)\u001b[0m\n\u001b[0;32m    417\u001b[0m     eta\u001b[38;5;241m=\u001b[39meta,\n\u001b[0;32m    418\u001b[0m )\n\u001b[0;32m    419\u001b[0m SubsetIndexCachingMixin\u001b[38;5;241m.\u001b[39m\u001b[38;5;21m__init__\u001b[39m(\u001b[38;5;28mself\u001b[39m)\n\u001b[1;32m--> 420\u001b[0m NoisyExpectedHypervolumeMixin\u001b[38;5;241m.\u001b[39m\u001b[38;5;21m__init__\u001b[39m(\n\u001b[0;32m    421\u001b[0m     \u001b[38;5;28mself\u001b[39m,\n\u001b[0;32m    422\u001b[0m     model\u001b[38;5;241m=\u001b[39mmodel,\n\u001b[0;32m    423\u001b[0m     ref_point\u001b[38;5;241m=\u001b[39mref_point,\n\u001b[0;32m    424\u001b[0m     X_baseline\u001b[38;5;241m=\u001b[39mX_baseline,\n\u001b[0;32m    425\u001b[0m     sampler\u001b[38;5;241m=\u001b[39m\u001b[38;5;28mself\u001b[39m\u001b[38;5;241m.\u001b[39msampler,\n\u001b[0;32m    426\u001b[0m     objective\u001b[38;5;241m=\u001b[39m\u001b[38;5;28mself\u001b[39m\u001b[38;5;241m.\u001b[39mobjective,\n\u001b[0;32m    427\u001b[0m     constraints\u001b[38;5;241m=\u001b[39m\u001b[38;5;28mself\u001b[39m\u001b[38;5;241m.\u001b[39mconstraints,\n\u001b[0;32m    428\u001b[0m     X_pending\u001b[38;5;241m=\u001b[39mX_pending,\n\u001b[0;32m    429\u001b[0m     prune_baseline\u001b[38;5;241m=\u001b[39mprune_baseline,\n\u001b[0;32m    430\u001b[0m     alpha\u001b[38;5;241m=\u001b[39malpha,\n\u001b[0;32m    431\u001b[0m     cache_pending\u001b[38;5;241m=\u001b[39mcache_pending,\n\u001b[0;32m    432\u001b[0m     max_iep\u001b[38;5;241m=\u001b[39mmax_iep,\n\u001b[0;32m    433\u001b[0m     incremental_nehvi\u001b[38;5;241m=\u001b[39mincremental_nehvi,\n\u001b[0;32m    434\u001b[0m     cache_root\u001b[38;5;241m=\u001b[39mcache_root,\n\u001b[0;32m    435\u001b[0m     marginalize_dim\u001b[38;5;241m=\u001b[39mmarginalize_dim,\n\u001b[0;32m    436\u001b[0m )\n\u001b[0;32m    437\u001b[0m \u001b[38;5;28mself\u001b[39m\u001b[38;5;241m.\u001b[39mfat \u001b[38;5;241m=\u001b[39m fat\n",
      "File \u001b[1;32mc:\\Users\\goura\\anaconda3\\envs\\botorch\\Lib\\site-packages\\botorch\\utils\\multi_objective\\hypervolume.py:592\u001b[0m, in \u001b[0;36mNoisyExpectedHypervolumeMixin.__init__\u001b[1;34m(self, model, ref_point, X_baseline, sampler, objective, constraints, X_pending, prune_baseline, alpha, cache_pending, max_iep, incremental_nehvi, cache_root, marginalize_dim)\u001b[0m\n\u001b[0;32m    587\u001b[0m     \u001b[38;5;28;01mraise\u001b[39;00m UnsupportedError(\n\u001b[0;32m    588\u001b[0m         \u001b[38;5;124mf\u001b[39m\u001b[38;5;124m\"\u001b[39m\u001b[38;5;124mNoisyExpectedHypervolumeMixin does not support batched \u001b[39m\u001b[38;5;124m\"\u001b[39m\n\u001b[0;32m    589\u001b[0m         \u001b[38;5;124mf\u001b[39m\u001b[38;5;124m\"\u001b[39m\u001b[38;5;124mX_baseline. Expected 2 dims, got \u001b[39m\u001b[38;5;132;01m{\u001b[39;00mX_baseline\u001b[38;5;241m.\u001b[39mndim\u001b[38;5;132;01m}\u001b[39;00m\u001b[38;5;124m.\u001b[39m\u001b[38;5;124m\"\u001b[39m\n\u001b[0;32m    590\u001b[0m     )\n\u001b[0;32m    591\u001b[0m \u001b[38;5;28;01mif\u001b[39;00m prune_baseline:\n\u001b[1;32m--> 592\u001b[0m     X_baseline \u001b[38;5;241m=\u001b[39m prune_inferior_points_multi_objective(\n\u001b[0;32m    593\u001b[0m         model\u001b[38;5;241m=\u001b[39mmodel,\n\u001b[0;32m    594\u001b[0m         X\u001b[38;5;241m=\u001b[39mX_baseline,\n\u001b[0;32m    595\u001b[0m         objective\u001b[38;5;241m=\u001b[39mobjective,\n\u001b[0;32m    596\u001b[0m         constraints\u001b[38;5;241m=\u001b[39mconstraints,\n\u001b[0;32m    597\u001b[0m         ref_point\u001b[38;5;241m=\u001b[39mref_point,\n\u001b[0;32m    598\u001b[0m         marginalize_dim\u001b[38;5;241m=\u001b[39mmarginalize_dim,\n\u001b[0;32m    599\u001b[0m     )\n\u001b[0;32m    601\u001b[0m \u001b[38;5;28mself\u001b[39m\u001b[38;5;241m.\u001b[39malpha \u001b[38;5;241m=\u001b[39m alpha\n\u001b[0;32m    602\u001b[0m \u001b[38;5;28mself\u001b[39m\u001b[38;5;241m.\u001b[39mq_in \u001b[38;5;241m=\u001b[39m \u001b[38;5;241m-\u001b[39m\u001b[38;5;241m1\u001b[39m\n",
      "File \u001b[1;32mc:\\Users\\goura\\anaconda3\\envs\\botorch\\Lib\\site-packages\\botorch\\acquisition\\multi_objective\\utils.py:148\u001b[0m, in \u001b[0;36mprune_inferior_points_multi_objective\u001b[1;34m(model, X, ref_point, objective, constraints, num_samples, max_frac, marginalize_dim)\u001b[0m\n\u001b[0;32m    142\u001b[0m infeas \u001b[38;5;241m=\u001b[39m \u001b[38;5;241m~\u001b[39mcompute_feasibility_indicator(\n\u001b[0;32m    143\u001b[0m     constraints\u001b[38;5;241m=\u001b[39mconstraints,\n\u001b[0;32m    144\u001b[0m     samples\u001b[38;5;241m=\u001b[39msamples,\n\u001b[0;32m    145\u001b[0m     marginalize_dim\u001b[38;5;241m=\u001b[39mmarginalize_dim,\n\u001b[0;32m    146\u001b[0m )\n\u001b[0;32m    147\u001b[0m \u001b[38;5;28;01mif\u001b[39;00m infeas\u001b[38;5;241m.\u001b[39many():\n\u001b[1;32m--> 148\u001b[0m     obj_vals[infeas] \u001b[38;5;241m=\u001b[39m ref_point\n\u001b[0;32m    149\u001b[0m pareto_mask \u001b[38;5;241m=\u001b[39m is_non_dominated(obj_vals, deduplicate\u001b[38;5;241m=\u001b[39m\u001b[38;5;28;01mFalse\u001b[39;00m) \u001b[38;5;241m&\u001b[39m (\n\u001b[0;32m    150\u001b[0m     obj_vals \u001b[38;5;241m>\u001b[39m ref_point\n\u001b[0;32m    151\u001b[0m )\u001b[38;5;241m.\u001b[39mall(dim\u001b[38;5;241m=\u001b[39m\u001b[38;5;241m-\u001b[39m\u001b[38;5;241m1\u001b[39m)\n\u001b[0;32m    152\u001b[0m probs \u001b[38;5;241m=\u001b[39m pareto_mask\u001b[38;5;241m.\u001b[39mto(dtype\u001b[38;5;241m=\u001b[39mX\u001b[38;5;241m.\u001b[39mdtype)\u001b[38;5;241m.\u001b[39mmean(dim\u001b[38;5;241m=\u001b[39m\u001b[38;5;241m0\u001b[39m)\n",
      "\u001b[1;31mRuntimeError\u001b[0m: shape mismatch: value tensor of shape [5] cannot be broadcast to indexing result of shape [12288, 3]"
     ]
    }
   ],
   "source": [
    "sampler = SobolQMCNormalSampler(sample_shape=torch.Size([128]))\n",
    "\n",
    "new_x_qnehvi = optimize_qnehvi_and_get_observation(model, x, y, sampler)"
   ]
  },
  {
   "cell_type": "code",
   "execution_count": 18,
   "metadata": {},
   "outputs": [
    {
     "data": {
      "text/plain": [
       "[-1.100000023841858, -1.100000023841858]"
      ]
     },
     "execution_count": 18,
     "metadata": {},
     "output_type": "execute_result"
    }
   ],
   "source": [
    "from botorch.test_functions.multi_objective import C2DTLZ2\n",
    "tkwargs = {\n",
    "    \"dtype\": torch.double,\n",
    "    \"device\": torch.device(\"cuda:3\" if torch.cuda.is_available() else \"cpu\"),\n",
    "}\n",
    "d = 4\n",
    "M = 2\n",
    "problem = C2DTLZ2(dim=d, num_objectives=M, negate=True).to(**tkwargs)\n",
    "problem.ref_point.tolist()"
   ]
  },
  {
   "cell_type": "code",
   "execution_count": null,
   "metadata": {},
   "outputs": [],
   "source": []
  }
 ],
 "metadata": {
  "kernelspec": {
   "display_name": "botorch",
   "language": "python",
   "name": "python3"
  },
  "language_info": {
   "codemirror_mode": {
    "name": "ipython",
    "version": 3
   },
   "file_extension": ".py",
   "mimetype": "text/x-python",
   "name": "python",
   "nbconvert_exporter": "python",
   "pygments_lexer": "ipython3",
   "version": "3.11.9"
  }
 },
 "nbformat": 4,
 "nbformat_minor": 2
}
