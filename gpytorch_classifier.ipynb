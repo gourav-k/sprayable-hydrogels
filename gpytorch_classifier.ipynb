{
 "cells": [
  {
   "cell_type": "code",
   "execution_count": 1,
   "metadata": {},
   "outputs": [],
   "source": [
    "import math\n",
    "import torch\n",
    "import gpytorch\n",
    "from matplotlib import pyplot as plt\n",
    "\n",
    "%matplotlib inline"
   ]
  },
  {
   "cell_type": "code",
   "execution_count": 6,
   "metadata": {},
   "outputs": [],
   "source": [
    "train_x = torch.linspace(0, 1, 10)\n",
    "train_y = torch.sign(torch.cos(train_x * (4 * math.pi))).add(1).div(2)"
   ]
  },
  {
   "cell_type": "code",
   "execution_count": 3,
   "metadata": {},
   "outputs": [],
   "source": [
    "from gpytorch.models import ApproximateGP\n",
    "from gpytorch.variational import CholeskyVariationalDistribution\n",
    "from gpytorch.variational import UnwhitenedVariationalStrategy\n",
    "\n",
    "\n",
    "class GPClassificationModel(ApproximateGP):\n",
    "    def __init__(self, train_x):\n",
    "        variational_distribution = CholeskyVariationalDistribution(train_x.size(0))\n",
    "        variational_strategy = UnwhitenedVariationalStrategy(\n",
    "            self, train_x, variational_distribution, learn_inducing_locations=False\n",
    "        )\n",
    "        super(GPClassificationModel, self).__init__(variational_strategy)\n",
    "        self.mean_module = gpytorch.means.ConstantMean()\n",
    "        self.covar_module = gpytorch.kernels.ScaleKernel(gpytorch.kernels.RBFKernel())\n",
    "\n",
    "    def forward(self, x):\n",
    "        mean_x = self.mean_module(x)\n",
    "        covar_x = self.covar_module(x)\n",
    "        latent_pred = gpytorch.distributions.MultivariateNormal(mean_x, covar_x)\n",
    "        return latent_pred\n",
    "\n",
    "\n",
    "# Initialize model and likelihood\n",
    "model = GPClassificationModel(train_x)\n",
    "likelihood = gpytorch.likelihoods.BernoulliLikelihood()"
   ]
  },
  {
   "cell_type": "code",
   "execution_count": 4,
   "metadata": {},
   "outputs": [
    {
     "name": "stdout",
     "output_type": "stream",
     "text": [
      "Iter 1/50 - Loss: 0.909\n",
      "Iter 2/50 - Loss: 5.393\n",
      "Iter 3/50 - Loss: 8.489\n",
      "Iter 4/50 - Loss: 3.708\n",
      "Iter 5/50 - Loss: 6.671\n",
      "Iter 6/50 - Loss: 6.995\n",
      "Iter 7/50 - Loss: 6.300\n",
      "Iter 8/50 - Loss: 4.973\n",
      "Iter 9/50 - Loss: 3.926\n",
      "Iter 10/50 - Loss: 3.226\n",
      "Iter 11/50 - Loss: 2.849\n",
      "Iter 12/50 - Loss: 2.642\n",
      "Iter 13/50 - Loss: 2.404\n",
      "Iter 14/50 - Loss: 2.215\n",
      "Iter 15/50 - Loss: 1.931\n",
      "Iter 16/50 - Loss: 1.667\n",
      "Iter 17/50 - Loss: 1.546\n",
      "Iter 18/50 - Loss: 1.507\n",
      "Iter 19/50 - Loss: 1.475\n",
      "Iter 20/50 - Loss: 1.452\n",
      "Iter 21/50 - Loss: 1.443\n",
      "Iter 22/50 - Loss: 1.441\n",
      "Iter 23/50 - Loss: 1.436\n",
      "Iter 24/50 - Loss: 1.426\n",
      "Iter 25/50 - Loss: 1.410\n",
      "Iter 26/50 - Loss: 1.388\n",
      "Iter 27/50 - Loss: 1.363\n",
      "Iter 28/50 - Loss: 1.333\n",
      "Iter 29/50 - Loss: 1.302\n",
      "Iter 30/50 - Loss: 1.270\n",
      "Iter 31/50 - Loss: 1.237\n",
      "Iter 32/50 - Loss: 1.205\n",
      "Iter 33/50 - Loss: 1.176\n",
      "Iter 34/50 - Loss: 1.149\n",
      "Iter 35/50 - Loss: 1.127\n",
      "Iter 36/50 - Loss: 1.108\n",
      "Iter 37/50 - Loss: 1.091\n",
      "Iter 38/50 - Loss: 1.077\n",
      "Iter 39/50 - Loss: 1.062\n",
      "Iter 40/50 - Loss: 1.046\n",
      "Iter 41/50 - Loss: 1.029\n",
      "Iter 42/50 - Loss: 1.010\n",
      "Iter 43/50 - Loss: 0.990\n",
      "Iter 44/50 - Loss: 0.971\n",
      "Iter 45/50 - Loss: 0.955\n",
      "Iter 46/50 - Loss: 0.940\n",
      "Iter 47/50 - Loss: 0.927\n",
      "Iter 48/50 - Loss: 0.915\n",
      "Iter 49/50 - Loss: 0.904\n",
      "Iter 50/50 - Loss: 0.893\n"
     ]
    }
   ],
   "source": [
    "# from gpytorch.mlls.variational_elbo import VariationalELBO\n",
    "\n",
    "# this is for running the notebook in our testing framework\n",
    "import os\n",
    "smoke_test = ('CI' in os.environ)\n",
    "training_iterations = 2 if smoke_test else 50\n",
    "\n",
    "\n",
    "# Find optimal model hyperparameters\n",
    "model.train()\n",
    "likelihood.train()\n",
    "\n",
    "# Use the adam optimizer\n",
    "optimizer = torch.optim.Adam(model.parameters(), lr=0.1)\n",
    "\n",
    "# \"Loss\" for GPs - the marginal log likelihood\n",
    "# num_data refers to the number of training datapoints\n",
    "mll = gpytorch.mlls.VariationalELBO(likelihood, model, train_y.numel())\n",
    "\n",
    "for i in range(training_iterations):\n",
    "    # Zero backpropped gradients from previous iteration\n",
    "    optimizer.zero_grad()\n",
    "    # Get predictive output\n",
    "    output = model(train_x)\n",
    "    # Calc loss and backprop gradients\n",
    "    loss = -mll(output, train_y)\n",
    "    loss.backward()\n",
    "    print('Iter %d/%d - Loss: %.3f' % (i + 1, training_iterations, loss.item()))\n",
    "    optimizer.step()"
   ]
  },
  {
   "cell_type": "code",
   "execution_count": 5,
   "metadata": {},
   "outputs": [
    {
     "data": {
      "image/png": "[encoded data removed]",
      "text/plain": [
       "<Figure size 400x300 with 1 Axes>"
      ]
     },
     "metadata": {},
     "output_type": "display_data"
    }
   ],
   "source": [
    "# Go into eval mode\n",
    "model.eval()\n",
    "likelihood.eval()\n",
    "\n",
    "with torch.no_grad():\n",
    "    # Test x are regularly spaced by 0.01 0,1 inclusive\n",
    "    test_x = torch.linspace(0, 1, 101)\n",
    "    # Get classification predictions\n",
    "    observed_pred = likelihood(model(test_x))\n",
    "\n",
    "    # Initialize fig and axes for plot\n",
    "    f, ax = plt.subplots(1, 1, figsize=(4, 3))\n",
    "    ax.plot(train_x.numpy(), train_y.numpy(), 'k*')\n",
    "    # Get the predicted labels (probabilites of belonging to the positive class)\n",
    "    # Transform these probabilities to be 0/1 labels\n",
    "    pred_labels = observed_pred.mean.ge(0.5).float()\n",
    "    ax.plot(test_x.numpy(), pred_labels.numpy(), 'b')\n",
    "    ax.set_ylim([-1, 2])\n",
    "    ax.legend(['Observed Data', 'Mean'])"
   ]
  }
 ],
 "metadata": {
  "kernelspec": {
   "display_name": "myenv",
   "language": "python",
   "name": "python3"
  },
  "language_info": {
   "codemirror_mode": {
    "name": "ipython",
    "version": 3
   },
   "file_extension": ".py",
   "mimetype": "text/x-python",
   "name": "python",
   "nbconvert_exporter": "python",
   "pygments_lexer": "ipython3",
   "version": "3.11.5"
  }
 },
 "nbformat": 4,
 "nbformat_minor": 2
}
